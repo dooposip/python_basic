{
 "cells": [
  {
   "cell_type": "markdown",
   "id": "19cbca91-7c3a-4fe9-a2d6-0a63bcc718c3",
   "metadata": {},
   "source": [
    "# 1. if문의 기본 구조"
   ]
  },
  {
   "cell_type": "code",
   "execution_count": 29,
   "id": "c459036a-4450-4b1a-b08f-ad134a1eaaf4",
   "metadata": {},
   "outputs": [
    {
     "ename": "IndentationError",
     "evalue": "unexpected indent (2186653738.py, line 5)",
     "output_type": "error",
     "traceback": [
      "\u001b[1;36m  Cell \u001b[1;32mIn[29], line 5\u001b[1;36m\u001b[0m\n\u001b[1;33m    print(\"가라\")\u001b[0m\n\u001b[1;37m    ^\u001b[0m\n\u001b[1;31mIndentationError\u001b[0m\u001b[1;31m:\u001b[0m unexpected indent\n"
     ]
    }
   ],
   "source": [
    "money=True\n",
    "if money :\n",
    "    print(\"택시를 \")\n",
    "print(\"타고\")\n",
    "    print(\"가라\")"
   ]
  },
  {
   "cell_type": "code",
   "execution_count": 28,
   "id": "fb9b711c-b6e2-4a76-a990-ab1453955b4e",
   "metadata": {},
   "outputs": [
    {
     "name": "stdout",
     "output_type": "stream",
     "text": [
      "타고 \n"
     ]
    }
   ],
   "source": [
    "money = False\n",
    "if money:\n",
    "    print(\"택시를 \")\n",
    "print(\"타고 \")"
   ]
  },
  {
   "cell_type": "code",
   "execution_count": 27,
   "id": "253b5e2e-d2eb-4d37-bfe4-f14b2a1ec1f5",
   "metadata": {},
   "outputs": [
    {
     "name": "stdout",
     "output_type": "stream",
     "text": [
      "택시를 \n",
      "타고 \n"
     ]
    }
   ],
   "source": [
    "money = True\n",
    "if money:\n",
    "    print(\"택시를 \")\n",
    "    print(\"타고 \")"
   ]
  },
  {
   "cell_type": "markdown",
   "id": "8cedb283-9a84-4543-8a63-7b8c0c0c8282",
   "metadata": {},
   "source": [
    "## 2. 연산자"
   ]
  },
  {
   "cell_type": "code",
   "execution_count": 16,
   "id": "0b5848cf-f359-4a7f-aff7-7bd59435a10e",
   "metadata": {},
   "outputs": [
    {
     "name": "stdout",
     "output_type": "stream",
     "text": [
      "True\n",
      "False\n",
      "False\n",
      "True\n"
     ]
    }
   ],
   "source": [
    "# 비교 연산자\n",
    "x = 3\n",
    "y = 2\n",
    "print(x>y) # teue\n",
    "print(x<y) # false\n",
    "print(x==y)# false\n",
    "print(x!=y)# true"
   ]
  },
  {
   "cell_type": "code",
   "execution_count": 18,
   "id": "f82d2596-dd2b-4cea-a923-28266cf41658",
   "metadata": {},
   "outputs": [
    {
     "name": "stdout",
     "output_type": "stream",
     "text": [
      "걸어가라\n"
     ]
    }
   ],
   "source": [
    "money = 2000\n",
    "if money >=3000:\n",
    "    print(\"택시를 타고 가라\")\n",
    "else:\n",
    "    print(\"걸어가라\")"
   ]
  },
  {
   "cell_type": "code",
   "execution_count": 30,
   "id": "a9b54bd2-a461-41ab-aca5-c6b695c23100",
   "metadata": {},
   "outputs": [
    {
     "name": "stdout",
     "output_type": "stream",
     "text": [
      "택시를 타고 가라\n"
     ]
    }
   ],
   "source": [
    "# 논리 연산자\n",
    "# 조건식 x,y =>and 둘다 True일 때 True\n",
    "#              or 하나만 Trued이면 True\n",
    "#             not True-> False, False->True\n",
    "money = 2000\n",
    "card = True\n",
    "if money >= 3000 or card:\n",
    "    print(\"택시를 타고 가라\")\n",
    "else:\n",
    "    print(\"걸어가라\")"
   ]
  },
  {
   "cell_type": "code",
   "execution_count": 31,
   "id": "fb3b2197-6024-4c97-9383-d95f60204668",
   "metadata": {},
   "outputs": [
    {
     "name": "stdout",
     "output_type": "stream",
     "text": [
      "걸어가라\n"
     ]
    }
   ],
   "source": [
    "money = 2000\n",
    "card = False\n",
    "if money >= 3000 or card:\n",
    "    print(\"택시를 타고 가라\")\n",
    "else:\n",
    "    print(\"걸어가라\")"
   ]
  },
  {
   "cell_type": "code",
   "execution_count": 32,
   "id": "145ed7eb-f785-4577-9cf0-1bf5cb585593",
   "metadata": {},
   "outputs": [
    {
     "name": "stdout",
     "output_type": "stream",
     "text": [
      "택시를 타고 가라\n"
     ]
    }
   ],
   "source": [
    "money = 0\n",
    "card = True\n",
    "if money >= 3000 or card:\n",
    "    print(\"택시를 타고 가라\")\n",
    "else:\n",
    "    print(\"걸어가라\")"
   ]
  },
  {
   "cell_type": "code",
   "execution_count": 34,
   "id": "6fda5f08-65f5-4ff1-87ad-b0446d7f5790",
   "metadata": {},
   "outputs": [
    {
     "data": {
      "text/plain": [
       "True"
      ]
     },
     "execution_count": 34,
     "metadata": {},
     "output_type": "execute_result"
    }
   ],
   "source": [
    "# in, not in\n",
    "1 in [1,2,3]\n"
   ]
  },
  {
   "cell_type": "code",
   "execution_count": 35,
   "id": "9af0d2ba-95eb-49cd-ae44-a98aee59ea52",
   "metadata": {},
   "outputs": [
    {
     "data": {
      "text/plain": [
       "False"
      ]
     },
     "execution_count": 35,
     "metadata": {},
     "output_type": "execute_result"
    }
   ],
   "source": [
    "1 not in [1,2,3]"
   ]
  },
  {
   "cell_type": "code",
   "execution_count": 36,
   "id": "ec293d3e-d74a-4885-a167-6329c98a33a3",
   "metadata": {},
   "outputs": [
    {
     "data": {
      "text/plain": [
       "True"
      ]
     },
     "execution_count": 36,
     "metadata": {},
     "output_type": "execute_result"
    }
   ],
   "source": [
    "'a' in ('a' , 'b' , 'c')"
   ]
  },
  {
   "cell_type": "code",
   "execution_count": 37,
   "id": "3b76e6c0-7e44-42a0-a7b4-d7dc3df1b053",
   "metadata": {},
   "outputs": [
    {
     "data": {
      "text/plain": [
       "False"
      ]
     },
     "execution_count": 37,
     "metadata": {},
     "output_type": "execute_result"
    }
   ],
   "source": [
    "'b' not in ('a' , 'b' , 'c')"
   ]
  },
  {
   "cell_type": "code",
   "execution_count": 38,
   "id": "f5739a86-d29e-4169-af88-f1db68b80a63",
   "metadata": {},
   "outputs": [
    {
     "data": {
      "text/plain": [
       "True"
      ]
     },
     "execution_count": 38,
     "metadata": {},
     "output_type": "execute_result"
    }
   ],
   "source": [
    "'c' in ('a' , 'b' , 'c')"
   ]
  },
  {
   "cell_type": "code",
   "execution_count": 39,
   "id": "005cd380-ede4-41e8-933c-ed258136702d",
   "metadata": {},
   "outputs": [
    {
     "name": "stdout",
     "output_type": "stream",
     "text": [
      "택시를 타고 가라\n"
     ]
    }
   ],
   "source": [
    "poket = ['paper', 'cellphone', 'money']\n",
    "if 'money' in poket:\n",
    "    print(\"택시를 타고 가라\")\n",
    "else:\n",
    "    print(\"걸어가라\")"
   ]
  },
  {
   "cell_type": "code",
   "execution_count": 46,
   "id": "1675acf1-82de-46ca-907b-c0052e844cd6",
   "metadata": {},
   "outputs": [],
   "source": [
    "# pass : 실행문 실행하지 않고 넘어가기\n",
    "poket = ['paper', 'cellphone', 'money']\n",
    "\n",
    "if 'money' in poket:\n",
    "    pass\n",
    "else:\n",
    "    print(\"카드를 꺼내라\")"
   ]
  },
  {
   "cell_type": "code",
   "execution_count": 45,
   "id": "1cbcecb3-5a25-47fb-b195-94b878672d99",
   "metadata": {},
   "outputs": [
    {
     "name": "stdout",
     "output_type": "stream",
     "text": [
      "카드를 꺼내라\n"
     ]
    }
   ],
   "source": [
    "poket = ['paper', 'cellphone' ]\n",
    "\n",
    "if 'money' in poket:\n",
    "    pass\n",
    "else:\n",
    "    print(\"카드를 꺼내라\")"
   ]
  },
  {
   "cell_type": "markdown",
   "id": "a7346250-1579-423a-9576-5b7ea15cd7df",
   "metadata": {},
   "source": [
    "## 3. 다양한 조건을 판단하는 elif "
   ]
  },
  {
   "cell_type": "code",
   "execution_count": 49,
   "id": "219345a5-ffd3-475a-9cae-a0b45571968d",
   "metadata": {},
   "outputs": [
    {
     "name": "stdout",
     "output_type": "stream",
     "text": [
      "택시를 타고 가라\n"
     ]
    }
   ],
   "source": [
    "# if, else만으로 표현\n",
    "poket = ['paper', 'cellphone', ]\n",
    "card = True\n",
    "if 'money' in poket:\n",
    "    print(\"택시를 타고 가라\")\n",
    "else:\n",
    "    if card:\n",
    "        print(\"택시를 타고 가라\") # <-출력됨\n",
    "    else:\n",
    "        print(\"걸어가라\")"
   ]
  },
  {
   "cell_type": "code",
   "execution_count": 51,
   "id": "c41232b1-37de-4061-8c86-0450331ec3af",
   "metadata": {},
   "outputs": [
    {
     "name": "stdout",
     "output_type": "stream",
     "text": [
      "카드로 택시를 타고 가라\n"
     ]
    }
   ],
   "source": [
    "# elif 사용\n",
    "poket = ['paper', 'cellphone', ]\n",
    "card = True\n",
    "\n",
    "if 'money' in poket:\n",
    "    print(\"택시를 타고 가라\")\n",
    "elif card:\n",
    "    print(\"카드로 택시를 타고 가라\") \n",
    "else:\n",
    "    print(\"걸어가라\")"
   ]
  },
  {
   "cell_type": "code",
   "execution_count": 53,
   "id": "4d324447-3045-4524-a0df-bd6715397187",
   "metadata": {},
   "outputs": [
    {
     "name": "stdout",
     "output_type": "stream",
     "text": [
      "D\n"
     ]
    }
   ],
   "source": [
    "math = 60\n",
    "\n",
    "if math>=90:\n",
    "    print('A')\n",
    "elif math>=80:\n",
    "    print('B')\n",
    "elif math>=70:\n",
    "    print('C')\n",
    "elif math>=60:\n",
    "    print('D')\n",
    "else:\n",
    "    print('f')"
   ]
  },
  {
   "cell_type": "code",
   "execution_count": 54,
   "id": "7f64c369-4bdb-4386-9a73-1ea3c39e0ee3",
   "metadata": {},
   "outputs": [],
   "source": [
    "# if문 한 줄로 작성하기\n",
    "poket = ['paper', 'cellphone', 'money']\n",
    "\n",
    "if 'money' in poket: pass\n",
    "else: print(\"카드를 꺼내라\")"
   ]
  },
  {
   "cell_type": "markdown",
   "id": "814c38de-f8c5-4bac-83fd-e15a80ba091b",
   "metadata": {},
   "source": [
    "## 4. 조건부 표현식 "
   ]
  },
  {
   "cell_type": "code",
   "execution_count": 60,
   "id": "9a278596-960f-43a0-928f-4ad9fc24a08d",
   "metadata": {},
   "outputs": [
    {
     "name": "stdout",
     "output_type": "stream",
     "text": [
      "success\n"
     ]
    }
   ],
   "source": [
    "# if / else문\n",
    "score=90\n",
    "if score >=60: \n",
    "    message=\"success\"\n",
    "else:\n",
    "    message='failure'\n",
    "\n",
    "print(message)"
   ]
  },
  {
   "cell_type": "code",
   "execution_count": 61,
   "id": "70063877-74fb-4d20-83b5-62d3095d9a22",
   "metadata": {},
   "outputs": [
    {
     "name": "stdout",
     "output_type": "stream",
     "text": [
      "failure\n"
     ]
    }
   ],
   "source": [
    "score=90\n",
    "if score >=100: \n",
    "    message=\"success\"\n",
    "else:\n",
    "    message='failure'\n",
    "\n",
    "print(message)"
   ]
  },
  {
   "cell_type": "code",
   "execution_count": 64,
   "id": "10ec733d-265e-40ce-a9bf-d051fd910047",
   "metadata": {},
   "outputs": [
    {
     "name": "stdout",
     "output_type": "stream",
     "text": [
      "success\n"
     ]
    }
   ],
   "source": [
    "# 조건부 표현식\n",
    "message=\"success\" if score >=60 else \"failure\"\n",
    "print(message)"
   ]
  },
  {
   "cell_type": "code",
   "execution_count": null,
   "id": "055f5ddb-8c00-414b-ab34-0f5448091f2f",
   "metadata": {},
   "outputs": [],
   "source": []
  }
 ],
 "metadata": {
  "kernelspec": {
   "display_name": "Python 3 (ipykernel)",
   "language": "python",
   "name": "python3"
  },
  "language_info": {
   "codemirror_mode": {
    "name": "ipython",
    "version": 3
   },
   "file_extension": ".py",
   "mimetype": "text/x-python",
   "name": "python",
   "nbconvert_exporter": "python",
   "pygments_lexer": "ipython3",
   "version": "3.13.5"
  }
 },
 "nbformat": 4,
 "nbformat_minor": 5
}
