{
 "cells": [
  {
   "cell_type": "markdown",
   "id": "e4282538-276a-4d07-9f71-2e4433faee91",
   "metadata": {},
   "source": [
    "# 3. 파이썬 함수"
   ]
  },
  {
   "cell_type": "code",
   "execution_count": 2,
   "id": "57a7191d-29ca-4d3d-9068-95ac0dfc229a",
   "metadata": {},
   "outputs": [
    {
     "name": "stdout",
     "output_type": "stream",
     "text": [
      "7\n",
      "333\n"
     ]
    }
   ],
   "source": [
    "# 함수의 구조\n",
    "def add(a,b):\n",
    "    return a+b\n",
    "\n",
    "a,b = 3,4\n",
    "c = add(a,b)\n",
    "print(c)\n",
    "\n",
    "d = add(111,222)\n",
    "print(d)"
   ]
  },
  {
   "cell_type": "code",
   "execution_count": 4,
   "id": "6cc6f9f6-28aa-4baa-9e12-1bdb004941ab",
   "metadata": {},
   "outputs": [
    {
     "name": "stdout",
     "output_type": "stream",
     "text": [
      "7\n"
     ]
    }
   ],
   "source": [
    "# 일반적인 함수\n",
    "def add(a,b):\n",
    "    result = a+b\n",
    "    return result\n",
    "\n",
    "a = add(3,4)\n",
    "print(a)"
   ]
  },
  {
   "cell_type": "code",
   "execution_count": 6,
   "id": "d8568d97-553b-499b-85c2-58a05b5be17f",
   "metadata": {},
   "outputs": [
    {
     "name": "stdout",
     "output_type": "stream",
     "text": [
      "Hi\n"
     ]
    }
   ],
   "source": [
    "# 입력값이 없는 함수\n",
    "def say():\n",
    "    return'Hi'\n",
    "\n",
    "a = say()\n",
    "print(a)"
   ]
  },
  {
   "cell_type": "code",
   "execution_count": 7,
   "id": "e828901a-e882-4027-b9a7-b331c85ccda0",
   "metadata": {},
   "outputs": [
    {
     "name": "stdout",
     "output_type": "stream",
     "text": [
      "3, 4의 합은 7입니다.\n"
     ]
    }
   ],
   "source": [
    "# 리턴값이 없는 함수\n",
    "def add(a,b):\n",
    "    print(\"%d, %d의 합은 %d입니다.\"%(a,b,a+b))\n",
    "\n",
    "add(3,4)"
   ]
  },
  {
   "cell_type": "code",
   "execution_count": 9,
   "id": "e3f077a7-55f0-4fae-97ef-5bbaf7023bd5",
   "metadata": {},
   "outputs": [
    {
     "name": "stdout",
     "output_type": "stream",
     "text": [
      "3, 4의 합은 7입니다.\n"
     ]
    }
   ],
   "source": [
    "a = add(3,4)"
   ]
  },
  {
   "cell_type": "code",
   "execution_count": 10,
   "id": "fa4aec7c-c3d2-4bdd-a6a2-f41ff8581827",
   "metadata": {},
   "outputs": [
    {
     "name": "stdout",
     "output_type": "stream",
     "text": [
      "Hi\n"
     ]
    }
   ],
   "source": [
    "# 립혁값도 리턴값도 ㅇ벗는 함수\n",
    "def say():\n",
    "    print('Hi')\n",
    "say()"
   ]
  },
  {
   "cell_type": "code",
   "execution_count": null,
   "id": "29522894-f78f-405f-9f13-0f52c32e9b8a",
   "metadata": {},
   "outputs": [],
   "source": []
  }
 ],
 "metadata": {
  "kernelspec": {
   "display_name": "Python 3 (ipykernel)",
   "language": "python",
   "name": "python3"
  },
  "language_info": {
   "codemirror_mode": {
    "name": "ipython",
    "version": 3
   },
   "file_extension": ".py",
   "mimetype": "text/x-python",
   "name": "python",
   "nbconvert_exporter": "python",
   "pygments_lexer": "ipython3",
   "version": "3.13.5"
  }
 },
 "nbformat": 4,
 "nbformat_minor": 5
}
