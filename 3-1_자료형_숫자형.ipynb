{
 "cells": [
  {
   "cell_type": "markdown",
   "id": "afb2b854-6df8-4e9d-8144-332660da7491",
   "metadata": {},
   "source": [
    "# python 시작\n",
    "## 1. 자료형 - 숫자"
   ]
  },
  {
   "cell_type": "code",
   "execution_count": null,
   "id": "54cba7db-c79c-43d0-8f74-47af0378a0bc",
   "metadata": {},
   "outputs": [],
   "source": [
    "print('hello python!!')"
   ]
  },
  {
   "cell_type": "markdown",
   "id": "49ca9392-a119-454c-8646-186787154762",
   "metadata": {},
   "source": [
    "### 정수형"
   ]
  },
  {
   "cell_type": "code",
   "execution_count": 3,
   "id": "fd7813cc-d03f-4326-8998-5d3820e9a13d",
   "metadata": {},
   "outputs": [],
   "source": [
    "a = 123"
   ]
  },
  {
   "cell_type": "code",
   "execution_count": 4,
   "id": "2baf3a96-a20e-4a34-8301-fe2371663bff",
   "metadata": {},
   "outputs": [
    {
     "data": {
      "text/plain": [
       "123"
      ]
     },
     "execution_count": 4,
     "metadata": {},
     "output_type": "execute_result"
    }
   ],
   "source": [
    "a"
   ]
  },
  {
   "cell_type": "code",
   "execution_count": 5,
   "id": "84d393d2-a2c8-4682-946a-0deb775cd63f",
   "metadata": {},
   "outputs": [
    {
     "data": {
      "text/plain": [
       "-178"
      ]
     },
     "execution_count": 5,
     "metadata": {},
     "output_type": "execute_result"
    }
   ],
   "source": [
    "a = -178\n",
    "a"
   ]
  },
  {
   "cell_type": "code",
   "execution_count": 6,
   "id": "9e875240-b71d-4f32-a268-1c71100fdc73",
   "metadata": {},
   "outputs": [
    {
     "data": {
      "text/plain": [
       "0"
      ]
     },
     "execution_count": 6,
     "metadata": {},
     "output_type": "execute_result"
    }
   ],
   "source": [
    "a = 0\n",
    "a"
   ]
  },
  {
   "cell_type": "code",
   "execution_count": 7,
   "id": "b8fc5509-b2dd-4cfc-8d50-a4e41a7be60d",
   "metadata": {},
   "outputs": [
    {
     "data": {
      "text/plain": [
       "int"
      ]
     },
     "execution_count": 7,
     "metadata": {},
     "output_type": "execute_result"
    }
   ],
   "source": [
    "type(a)"
   ]
  },
  {
   "cell_type": "markdown",
   "id": "ac2c32d0-7294-45e2-87a2-ba9b0ae83328",
   "metadata": {},
   "source": [
    "### 실수형"
   ]
  },
  {
   "cell_type": "code",
   "execution_count": 8,
   "id": "e2968e6c-bc04-4cb5-bbb6-9af77b3295e5",
   "metadata": {},
   "outputs": [
    {
     "name": "stdout",
     "output_type": "stream",
     "text": [
      "1.2\n",
      "<class 'float'>\n"
     ]
    }
   ],
   "source": [
    "a = 1.2\n",
    "print(a)\n",
    "print(type(a))"
   ]
  },
  {
   "cell_type": "code",
   "execution_count": 9,
   "id": "75b8a5d1-1d2f-48d5-8ebe-47db1a1ad363",
   "metadata": {},
   "outputs": [],
   "source": [
    "a = -3.45"
   ]
  },
  {
   "cell_type": "code",
   "execution_count": 10,
   "id": "a6b46131-f6e1-45e1-ba4d-f049640925d0",
   "metadata": {},
   "outputs": [
    {
     "name": "stdout",
     "output_type": "stream",
     "text": [
      "-3.45\n"
     ]
    }
   ],
   "source": [
    "print(a)"
   ]
  },
  {
   "cell_type": "code",
   "execution_count": 11,
   "id": "7657a286-4a39-4ec7-93a3-dd35c5e0cfd4",
   "metadata": {},
   "outputs": [
    {
     "name": "stdout",
     "output_type": "stream",
     "text": [
      "<class 'float'>\n"
     ]
    }
   ],
   "source": [
    "print(type(a))"
   ]
  },
  {
   "cell_type": "code",
   "execution_count": 12,
   "id": "d759840a-102e-4e99-8491-eb8e7840eef9",
   "metadata": {},
   "outputs": [
    {
     "name": "stdout",
     "output_type": "stream",
     "text": [
      "127\n",
      "<class 'int'>\n"
     ]
    }
   ],
   "source": [
    "a = 0o177\n",
    "print(a)\n",
    "print(type(a))"
   ]
  },
  {
   "cell_type": "code",
   "execution_count": 13,
   "id": "e60c5202-64a0-4b16-a3af-2ab7d212b65e",
   "metadata": {},
   "outputs": [
    {
     "data": {
      "text/plain": [
       "7"
      ]
     },
     "execution_count": 13,
     "metadata": {},
     "output_type": "execute_result"
    }
   ],
   "source": [
    "a= 3\n",
    "b=4\n",
    "a+b"
   ]
  },
  {
   "cell_type": "code",
   "execution_count": 14,
   "id": "b042d2f5-be7b-4282-87d1-bd715589779d",
   "metadata": {},
   "outputs": [
    {
     "data": {
      "text/plain": [
       "-1"
      ]
     },
     "execution_count": 14,
     "metadata": {},
     "output_type": "execute_result"
    }
   ],
   "source": [
    "a-b"
   ]
  },
  {
   "cell_type": "code",
   "execution_count": 15,
   "id": "e0e081b1-4ace-4c73-a201-1ebcf7456b24",
   "metadata": {},
   "outputs": [
    {
     "data": {
      "text/plain": [
       "12"
      ]
     },
     "execution_count": 15,
     "metadata": {},
     "output_type": "execute_result"
    }
   ],
   "source": [
    "a*b"
   ]
  },
  {
   "cell_type": "code",
   "execution_count": 16,
   "id": "6c4a5688-293e-474d-b33e-0c09daae22d0",
   "metadata": {},
   "outputs": [
    {
     "data": {
      "text/plain": [
       "0.75"
      ]
     },
     "execution_count": 16,
     "metadata": {},
     "output_type": "execute_result"
    }
   ],
   "source": [
    "a/b"
   ]
  },
  {
   "cell_type": "code",
   "execution_count": 17,
   "id": "feaf56f1-c9b1-4eb6-9ce2-062e567e7f0d",
   "metadata": {},
   "outputs": [
    {
     "data": {
      "text/plain": [
       "81"
      ]
     },
     "execution_count": 17,
     "metadata": {},
     "output_type": "execute_result"
    }
   ],
   "source": [
    "a=3\n",
    "b=4\n",
    "a**b"
   ]
  },
  {
   "cell_type": "code",
   "execution_count": 18,
   "id": "34ede710-c165-470e-b1c1-90af22ad6a41",
   "metadata": {},
   "outputs": [
    {
     "data": {
      "text/plain": [
       "1"
      ]
     },
     "execution_count": 18,
     "metadata": {},
     "output_type": "execute_result"
    }
   ],
   "source": [
    "7%3"
   ]
  },
  {
   "cell_type": "code",
   "execution_count": 19,
   "id": "c3f15ba2-f2e9-465e-adf9-5246bcb997c9",
   "metadata": {},
   "outputs": [
    {
     "data": {
      "text/plain": [
       "3"
      ]
     },
     "execution_count": 19,
     "metadata": {},
     "output_type": "execute_result"
    }
   ],
   "source": [
    "3%7"
   ]
  },
  {
   "cell_type": "code",
   "execution_count": 20,
   "id": "7e56e616-4479-4d18-a80c-9ddd4a5556ac",
   "metadata": {},
   "outputs": [
    {
     "data": {
      "text/plain": [
       "1"
      ]
     },
     "execution_count": 20,
     "metadata": {},
     "output_type": "execute_result"
    }
   ],
   "source": [
    "7%3"
   ]
  },
  {
   "cell_type": "code",
   "execution_count": 21,
   "id": "f2510ba3-6d5b-4c13-9c1a-dd5f648fd80c",
   "metadata": {},
   "outputs": [
    {
     "data": {
      "text/plain": [
       "0"
      ]
     },
     "execution_count": 21,
     "metadata": {},
     "output_type": "execute_result"
    }
   ],
   "source": [
    "4%2"
   ]
  },
  {
   "cell_type": "code",
   "execution_count": 22,
   "id": "01c79abb-b146-4dc2-84b8-ede3171195a9",
   "metadata": {},
   "outputs": [
    {
     "data": {
      "text/plain": [
       "1"
      ]
     },
     "execution_count": 22,
     "metadata": {},
     "output_type": "execute_result"
    }
   ],
   "source": [
    "7//4"
   ]
  },
  {
   "cell_type": "code",
   "execution_count": 23,
   "id": "13641ac8-1a8a-4855-b32d-429b7a561764",
   "metadata": {},
   "outputs": [
    {
     "data": {
      "text/plain": [
       "2"
      ]
     },
     "execution_count": 23,
     "metadata": {},
     "output_type": "execute_result"
    }
   ],
   "source": [
    "10//4"
   ]
  },
  {
   "cell_type": "code",
   "execution_count": 24,
   "id": "b7702042-5c4f-4f86-91c5-f6064c204ec8",
   "metadata": {},
   "outputs": [],
   "source": [
    "a=123"
   ]
  },
  {
   "cell_type": "code",
   "execution_count": 25,
   "id": "11bbd4ee-7bd2-435f-9af5-e7991a817a32",
   "metadata": {},
   "outputs": [
    {
     "data": {
      "text/plain": [
       "123"
      ]
     },
     "execution_count": 25,
     "metadata": {},
     "output_type": "execute_result"
    }
   ],
   "source": [
    "a"
   ]
  },
  {
   "cell_type": "code",
   "execution_count": 26,
   "id": "243e8b31-135c-4227-9023-9161491e7dc2",
   "metadata": {},
   "outputs": [],
   "source": [
    "a= -127"
   ]
  },
  {
   "cell_type": "code",
   "execution_count": 27,
   "id": "17acb545-c863-445f-8346-3e28b5438d5a",
   "metadata": {},
   "outputs": [
    {
     "data": {
      "text/plain": [
       "-127"
      ]
     },
     "execution_count": 27,
     "metadata": {},
     "output_type": "execute_result"
    }
   ],
   "source": [
    "a"
   ]
  },
  {
   "cell_type": "code",
   "execution_count": 28,
   "id": "d07c9195-cec7-44a7-943a-098435645f65",
   "metadata": {},
   "outputs": [],
   "source": [
    "a=1.2"
   ]
  },
  {
   "cell_type": "code",
   "execution_count": 29,
   "id": "6285b968-e1ad-4b0e-9801-d29c4c5edd37",
   "metadata": {},
   "outputs": [
    {
     "data": {
      "text/plain": [
       "1.2"
      ]
     },
     "execution_count": 29,
     "metadata": {},
     "output_type": "execute_result"
    }
   ],
   "source": [
    "a"
   ]
  },
  {
   "cell_type": "code",
   "execution_count": 30,
   "id": "06936b68-7962-43c4-bd39-257e36b4a890",
   "metadata": {},
   "outputs": [],
   "source": [
    "a=4.24e10"
   ]
  },
  {
   "cell_type": "code",
   "execution_count": 31,
   "id": "b083a5b1-0144-4c85-9618-a6a841da9e64",
   "metadata": {},
   "outputs": [
    {
     "data": {
      "text/plain": [
       "42400000000.0"
      ]
     },
     "execution_count": 31,
     "metadata": {},
     "output_type": "execute_result"
    }
   ],
   "source": [
    "a"
   ]
  },
  {
   "cell_type": "code",
   "execution_count": 32,
   "id": "a57d96c2-0690-41a5-b290-3723d6ff9ae2",
   "metadata": {},
   "outputs": [],
   "source": [
    "a=0o177"
   ]
  },
  {
   "cell_type": "code",
   "execution_count": 33,
   "id": "7cb9c10c-28b6-46b4-98a8-5443d3b51e30",
   "metadata": {},
   "outputs": [
    {
     "name": "stdout",
     "output_type": "stream",
     "text": [
      "127\n"
     ]
    }
   ],
   "source": [
    "print(a)"
   ]
  },
  {
   "cell_type": "code",
   "execution_count": 1,
   "id": "cdb5deae-879d-4c88-becd-cf3cbc002740",
   "metadata": {},
   "outputs": [
    {
     "name": "stdout",
     "output_type": "stream",
     "text": [
      "a\n"
     ]
    }
   ],
   "source": [
    "print('a')"
   ]
  },
  {
   "cell_type": "code",
   "execution_count": null,
   "id": "f4de54aa-a43c-4867-8530-aab47c848232",
   "metadata": {},
   "outputs": [],
   "source": []
  }
 ],
 "metadata": {
  "kernelspec": {
   "display_name": "Python 3 (ipykernel)",
   "language": "python",
   "name": "python3"
  },
  "language_info": {
   "codemirror_mode": {
    "name": "ipython",
    "version": 3
   },
   "file_extension": ".py",
   "mimetype": "text/x-python",
   "name": "python",
   "nbconvert_exporter": "python",
   "pygments_lexer": "ipython3",
   "version": "3.13.5"
  }
 },
 "nbformat": 4,
 "nbformat_minor": 5
}
