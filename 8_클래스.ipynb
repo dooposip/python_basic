{
 "cells": [
  {
   "cell_type": "markdown",
   "id": "1c8c6cfa-a4c8-463c-a984-325faaef177f",
   "metadata": {},
   "source": [
    "### 1. 클래스는 왜 필요한가?? "
   ]
  },
  {
   "cell_type": "code",
   "execution_count": 2,
   "id": "1ed5ae2a-e367-494d-b753-3bc8a3f2c2dc",
   "metadata": {},
   "outputs": [
    {
     "name": "stdout",
     "output_type": "stream",
     "text": [
      "3\n",
      "7\n"
     ]
    }
   ],
   "source": [
    "# 함수로 계산기 만들기\n",
    "result= 0\n",
    "\n",
    "def add(num):\n",
    "    global result\n",
    "    result += num\n",
    "    return result\n",
    "\n",
    "print(add(3)) # 0+3=3\n",
    "print(add(4)) # 3+4=7"
   ]
  },
  {
   "cell_type": "code",
   "execution_count": 3,
   "id": "a0db1eb8-daa4-4fc2-93ed-b5b425c68559",
   "metadata": {},
   "outputs": [
    {
     "name": "stdout",
     "output_type": "stream",
     "text": [
      "3\n",
      "7\n",
      "5\n",
      "11\n"
     ]
    }
   ],
   "source": [
    "#  계산기 2개로 각각 계산\n",
    "res1 = 0\n",
    "res2 = 0\n",
    "\n",
    "def add1(num):\n",
    "    global res1\n",
    "    res1 +=num\n",
    "    return res1\n",
    "    \n",
    "def add2(num):\n",
    "    global res2\n",
    "    res2 +=num\n",
    "    return res2\n",
    "\n",
    "print(add1(3))\n",
    "print(add1(4))\n",
    "print(add2(5))\n",
    "print(add2(6))"
   ]
  },
  {
   "cell_type": "code",
   "execution_count": 8,
   "id": "704ea046-5a69-4817-8b51-3b4f0c7f79ef",
   "metadata": {},
   "outputs": [
    {
     "name": "stdout",
     "output_type": "stream",
     "text": [
      "3\n",
      "7\n",
      "5\n",
      "11\n"
     ]
    }
   ],
   "source": [
    "# 클래스로 여러개 계산기 만들기\n",
    "class Calculater:\n",
    "    def __init__(self): # def 한칸띄고 언더바 2개씩\n",
    "        self.result = 0\n",
    "    \n",
    "    def add(self, num):\n",
    "        self.result += num\n",
    "        return self.result\n",
    "\n",
    "cal1 = Calculater()\n",
    "cal2 = Calculater()\n",
    "\n",
    "print(cal1.add(3))\n",
    "print(cal1.add(4))\n",
    "print(cal2.add(5))\n",
    "print(cal2.add(6))"
   ]
  },
  {
   "cell_type": "code",
   "execution_count": 14,
   "id": "c475b241-190d-45b8-acc6-da7633b368e0",
   "metadata": {},
   "outputs": [
    {
     "name": "stdout",
     "output_type": "stream",
     "text": [
      "10\n",
      "13\n",
      "8\n",
      "--------------------\n",
      "-5\n",
      "15\n"
     ]
    }
   ],
   "source": [
    "# 더하기 / 빼기 기능이 있는 계산기의 설게도(class)\n",
    "class Calculater:\n",
    "    def __init__(self):\n",
    "        self.result = 0\n",
    "    \n",
    "    def add(self, num):\n",
    "        self.result += num\n",
    "        return self.result\n",
    "    \n",
    "    def sub(self, num):\n",
    "        self.result -= num\n",
    "        return self.result\n",
    "\n",
    "cal1= Calculater()\n",
    "print(cal1.add(10))\n",
    "print(cal1.add(3))\n",
    "print(cal1.sub(5))\n",
    "print('-'*20)\n",
    "\n",
    "cal2= Calculater()\n",
    "print(cal2.sub(5))\n",
    "print(cal2.add(20))"
   ]
  },
  {
   "cell_type": "markdown",
   "id": "516a1b5b-5227-40ef-a3f4-399706106976",
   "metadata": {},
   "source": [
    "## 3. 사칙연산 클래스 만들기 "
   ]
  },
  {
   "cell_type": "code",
   "execution_count": 15,
   "id": "4bccd03a-cca6-4a1e-836c-681be79a20a7",
   "metadata": {},
   "outputs": [],
   "source": [
    "class Fourcal:\n",
    "    pass"
   ]
  },
  {
   "cell_type": "code",
   "execution_count": 16,
   "id": "dce18561-e97b-4605-b70e-8022d90c2d4d",
   "metadata": {},
   "outputs": [
    {
     "data": {
      "text/plain": [
       "__main__.Fourcal"
      ]
     },
     "execution_count": 16,
     "metadata": {},
     "output_type": "execute_result"
    }
   ],
   "source": [
    "a = Fourcal()\n",
    "type(a)"
   ]
  },
  {
   "cell_type": "code",
   "execution_count": 17,
   "id": "c8b27523-ed84-4432-a196-eb82ba8f3782",
   "metadata": {},
   "outputs": [],
   "source": [
    "class Fourcal:\n",
    "    def setdata(self, first, second):\n",
    "        self.first = first\n",
    "        self.second = second"
   ]
  },
  {
   "cell_type": "code",
   "execution_count": 19,
   "id": "d8324864-942f-4c16-9cb3-a95336680bef",
   "metadata": {},
   "outputs": [
    {
     "name": "stdout",
     "output_type": "stream",
     "text": [
      "3 4\n"
     ]
    }
   ],
   "source": [
    "a= Fourcal() # 인스턴스 생성\n",
    "a.setdata(3,4)\n",
    "print(a.first, a.second)"
   ]
  },
  {
   "cell_type": "code",
   "execution_count": 68,
   "id": "e294af2d-71f5-4f22-af30-1dd0ba3e1d5c",
   "metadata": {},
   "outputs": [
    {
     "name": "stdout",
     "output_type": "stream",
     "text": [
      "6\n",
      "2\n",
      "8\n",
      "2.0\n",
      "********************\n",
      "11\n",
      "-5\n",
      "24\n",
      "0.375\n"
     ]
    }
   ],
   "source": [
    "class FourCal:\n",
    "    def setdata(self, first, second):\n",
    "        self.first = first\n",
    "        self.second = second\n",
    "\n",
    "    def add(self):\n",
    "        result= self.first + self.second\n",
    "        return result\n",
    "        \n",
    "    def sub(self):\n",
    "        result= self.first - self.second\n",
    "        return result\n",
    "        \n",
    "    def mul(self):\n",
    "        result= self.first * self.second\n",
    "        return result\n",
    "\n",
    "    def div(self):\n",
    "        result= self.first / self.second\n",
    "        return result\n",
    "\n",
    "call = FourCal()   # 계산기1\n",
    "cal2 = FourCal()   # 계산기2\n",
    "\n",
    "# 계선가애 2개의 숫자 입력\n",
    "cal1.setdata(4,2)\n",
    "cal2.setdata(3,8)\n",
    "\n",
    "print(cal1.add())\n",
    "print(cal1.sub())\n",
    "print(cal1.mul())\n",
    "print(cal1.div())\n",
    "print('*'*20)\n",
    "print(cal2.add())\n",
    "print(cal2.sub())\n",
    "print(cal2.mul())\n",
    "print(cal2.div())"
   ]
  },
  {
   "cell_type": "markdown",
   "id": "0bc3ade9-ffcb-4df2-a902-e4d5a2750744",
   "metadata": {},
   "source": [
    "# 4. "
   ]
  },
  {
   "cell_type": "code",
   "execution_count": 69,
   "id": "8c7af406-9889-4a57-962c-a2744c6872e6",
   "metadata": {},
   "outputs": [],
   "source": [
    "class FourCal:\n",
    "    def __init__(self, first, second):\n",
    "        self.first = first\n",
    "        self.second = second\n",
    "\n",
    "    def add(self):\n",
    "        result= self.first + self.second\n",
    "        return result\n",
    "        \n",
    "    def sub(self):\n",
    "        result= self.first - self.second\n",
    "        return result\n",
    "        \n",
    "    def mul(self):\n",
    "        result= self.first * self.second\n",
    "        return result\n",
    "\n",
    "    def div(self):\n",
    "        result= self.first / self.second\n",
    "        return result"
   ]
  },
  {
   "cell_type": "code",
   "execution_count": 70,
   "id": "24ca3f69-2e49-416d-996b-753cb549b80e",
   "metadata": {},
   "outputs": [
    {
     "ename": "TypeError",
     "evalue": "FourCal.__init__() missing 2 required positional arguments: 'first' and 'second'",
     "output_type": "error",
     "traceback": [
      "\u001b[1;31m---------------------------------------------------------------------------\u001b[0m",
      "\u001b[1;31mTypeError\u001b[0m                                 Traceback (most recent call last)",
      "Cell \u001b[1;32mIn[70], line 1\u001b[0m\n\u001b[1;32m----> 1\u001b[0m calc1 \u001b[38;5;241m=\u001b[39m FourCal()\n",
      "\u001b[1;31mTypeError\u001b[0m: FourCal.__init__() missing 2 required positional arguments: 'first' and 'second'"
     ]
    }
   ],
   "source": [
    "calc1 = FourCal()"
   ]
  },
  {
   "cell_type": "code",
   "execution_count": 72,
   "id": "8f256ea7-beea-4c7a-a95a-61a21ca036f8",
   "metadata": {},
   "outputs": [],
   "source": [
    "calc1 = FourCal(15,3)"
   ]
  },
  {
   "cell_type": "code",
   "execution_count": 73,
   "id": "6c5f4357-243e-4296-939e-c7c37d809944",
   "metadata": {},
   "outputs": [
    {
     "data": {
      "text/plain": [
       "3"
      ]
     },
     "execution_count": 73,
     "metadata": {},
     "output_type": "execute_result"
    }
   ],
   "source": [
    "calc1.second"
   ]
  },
  {
   "cell_type": "code",
   "execution_count": 74,
   "id": "aaeed022-ea48-4092-8db6-6364a0d983a6",
   "metadata": {},
   "outputs": [
    {
     "name": "stdout",
     "output_type": "stream",
     "text": [
      "15+3= 18\n",
      "15-3= 12\n",
      "15*3= 45\n",
      "15/3= 5.0\n"
     ]
    }
   ],
   "source": [
    "print('15+3=',calc1.add())\n",
    "print('15-3=',calc1.sub())\n",
    "print('15*3=',calc1.mul())\n",
    "print('15/3=',calc1.div())"
   ]
  },
  {
   "cell_type": "markdown",
   "id": "9b5112ec-44f7-4021-ae71-5b3c22a5bd8a",
   "metadata": {},
   "source": [
    "## 5. 클래스 상속\n"
   ]
  },
  {
   "cell_type": "code",
   "execution_count": 39,
   "id": "14441de6-2508-4285-a039-f9f558f25ee3",
   "metadata": {},
   "outputs": [],
   "source": [
    "class MoreFourCal(FourCal):\n",
    "    pass"
   ]
  },
  {
   "cell_type": "code",
   "execution_count": 40,
   "id": "711928c3-7026-481c-a13c-c9d6a933ce49",
   "metadata": {},
   "outputs": [],
   "source": [
    "cal1 = MoreFourCal(4,2)"
   ]
  },
  {
   "cell_type": "code",
   "execution_count": 41,
   "id": "36f4aaa6-579c-4178-be70-dae3a3f73101",
   "metadata": {},
   "outputs": [
    {
     "name": "stdout",
     "output_type": "stream",
     "text": [
      "6\n",
      "2\n",
      "8\n",
      "2.0\n"
     ]
    }
   ],
   "source": [
    "print(cal1.add())\n",
    "print(cal1.sub())\n",
    "print(cal1.mul())\n",
    "print(cal1.div())"
   ]
  },
  {
   "cell_type": "code",
   "execution_count": 46,
   "id": "ec3aea22-e772-4cae-bf8e-519403ffbcbe",
   "metadata": {},
   "outputs": [
    {
     "name": "stdout",
     "output_type": "stream",
     "text": [
      "6\n",
      "2\n",
      "8\n",
      "2.0\n",
      "None\n"
     ]
    }
   ],
   "source": [
    "# 기본기능은 상속받았고, MoreFourCal만의 기능을 추가\n",
    "class MoreFourCal(FourCal):\n",
    "    def pow(self):\n",
    "        result =self.first ** self.second\n",
    "\n",
    "cal2= MoreFourCal(4,2)\n",
    "print(cal2.add())\n",
    "print(cal2.sub())\n",
    "print(cal2.mul())\n",
    "print(cal2.div())\n",
    "print(cal2.pow())"
   ]
  },
  {
   "cell_type": "code",
   "execution_count": 47,
   "id": "5db529ae-b856-4f5a-8527-cc2992d59383",
   "metadata": {},
   "outputs": [
    {
     "name": "stdout",
     "output_type": "stream",
     "text": [
      "4\n",
      "4\n",
      "0\n"
     ]
    }
   ],
   "source": [
    "cal3 = MoreFourCal(4,0)\n",
    "print(cal3.add())\n",
    "print(cal3.sub())\n",
    "print(cal3.mul())"
   ]
  },
  {
   "cell_type": "code",
   "execution_count": 48,
   "id": "d43bcb29-5948-4223-9d4f-cb57b797b721",
   "metadata": {},
   "outputs": [
    {
     "ename": "ZeroDivisionError",
     "evalue": "division by zero",
     "output_type": "error",
     "traceback": [
      "\u001b[1;31m---------------------------------------------------------------------------\u001b[0m",
      "\u001b[1;31mZeroDivisionError\u001b[0m                         Traceback (most recent call last)",
      "Cell \u001b[1;32mIn[48], line 1\u001b[0m\n\u001b[1;32m----> 1\u001b[0m \u001b[38;5;28mprint\u001b[39m(cal3\u001b[38;5;241m.\u001b[39mdiv())\n",
      "Cell \u001b[1;32mIn[36], line 19\u001b[0m, in \u001b[0;36mFourCal.div\u001b[1;34m(self)\u001b[0m\n\u001b[0;32m     18\u001b[0m \u001b[38;5;28;01mdef\u001b[39;00m\u001b[38;5;250m \u001b[39m\u001b[38;5;21mdiv\u001b[39m(\u001b[38;5;28mself\u001b[39m):\n\u001b[1;32m---> 19\u001b[0m     result\u001b[38;5;241m=\u001b[39m \u001b[38;5;28mself\u001b[39m\u001b[38;5;241m.\u001b[39mfirst \u001b[38;5;241m/\u001b[39m \u001b[38;5;28mself\u001b[39m\u001b[38;5;241m.\u001b[39msecond\n\u001b[0;32m     20\u001b[0m     \u001b[38;5;28;01mreturn\u001b[39;00m result\n",
      "\u001b[1;31mZeroDivisionError\u001b[0m: division by zero"
     ]
    }
   ],
   "source": [
    "print(cal3.div())"
   ]
  },
  {
   "cell_type": "markdown",
   "id": "b9f1bf7a-2ecc-4802-b054-64c372c27a1d",
   "metadata": {},
   "source": [
    "# 6. 메서드 오버라이딩"
   ]
  },
  {
   "cell_type": "code",
   "execution_count": 49,
   "id": "40c4d160-7440-4e57-a4cc-7e64b40a8bb4",
   "metadata": {},
   "outputs": [],
   "source": [
    "class SafeFourCal(FourCal):\n",
    "    # 상속받은 메서드 재정의(overriding)\n",
    "    def div(self):\n",
    "        if self.second == 0:\n",
    "            return 0\n",
    "        else:\n",
    "            result = self.first / self.second\n",
    "            return result"
   ]
  },
  {
   "cell_type": "code",
   "execution_count": 52,
   "id": "59d5bbee-0e8a-43bd-b3e0-1527c178190b",
   "metadata": {},
   "outputs": [],
   "source": [
    "calc = SafeFourCal(4,0)"
   ]
  },
  {
   "cell_type": "code",
   "execution_count": 53,
   "id": "62786a2b-0d07-489c-bb87-af3db48e57b6",
   "metadata": {},
   "outputs": [
    {
     "name": "stdout",
     "output_type": "stream",
     "text": [
      "4\n",
      "4\n",
      "0\n",
      "0\n"
     ]
    }
   ],
   "source": [
    "print(calc.add())\n",
    "print(calc.sub())\n",
    "print(calc.mul())\n",
    "print(calc.div())"
   ]
  },
  {
   "cell_type": "markdown",
   "id": "9cf0e1d3-2d94-4a76-8fec-9c044916743c",
   "metadata": {},
   "source": [
    "# 7. 클래스 변수\n"
   ]
  },
  {
   "cell_type": "code",
   "execution_count": 54,
   "id": "5547cc4a-370e-4732-9659-2ccd4067c77d",
   "metadata": {},
   "outputs": [],
   "source": [
    "class Family:\n",
    "    lastname = '김'"
   ]
  },
  {
   "cell_type": "code",
   "execution_count": 56,
   "id": "6a3990c9-b89e-4b86-a54f-8f87828c8521",
   "metadata": {},
   "outputs": [
    {
     "data": {
      "text/plain": [
       "'김'"
      ]
     },
     "execution_count": 56,
     "metadata": {},
     "output_type": "execute_result"
    }
   ],
   "source": [
    "Family.lastname"
   ]
  },
  {
   "cell_type": "code",
   "execution_count": 58,
   "id": "722e9f69-2aeb-45c3-a21a-be96e8db0618",
   "metadata": {},
   "outputs": [
    {
     "name": "stdout",
     "output_type": "stream",
     "text": [
      "김\n",
      "김\n"
     ]
    }
   ],
   "source": [
    "a = Family()\n",
    "b = Family()\n",
    "print(a.lastname)\n",
    "print(b.lastname)"
   ]
  },
  {
   "cell_type": "code",
   "execution_count": 61,
   "id": "5db9c69e-467e-4df5-9af3-1af28fde6f71",
   "metadata": {},
   "outputs": [
    {
     "name": "stdout",
     "output_type": "stream",
     "text": [
      "박\n",
      "박\n"
     ]
    }
   ],
   "source": [
    "# 클래스 변수 변경\n",
    "Family.lastname = '박'\n",
    "# Family.lasrname => 클래스 변수, 클래스 변수를 변경하면 인스턴스 변수도 변경\n",
    "print(a.lastname)\n",
    "print(b.lastname)"
   ]
  },
  {
   "cell_type": "code",
   "execution_count": 63,
   "id": "ee78c72f-d460-4f4f-93af-bf99722227cb",
   "metadata": {},
   "outputs": [
    {
     "name": "stdout",
     "output_type": "stream",
     "text": [
      "최\n",
      "박\n"
     ]
    }
   ],
   "source": [
    "# 인스턴스 변수만 변경\n",
    "a.lastname = '최'\n",
    "print(a.lastname)    # 인스턴스변수를 변경하면 해당 인스턴스 변수만 변경됨\n",
    "print(b.lastname)"
   ]
  },
  {
   "cell_type": "code",
   "execution_count": null,
   "id": "b51a216c-858e-4eb9-a2b2-1e0c26449e41",
   "metadata": {},
   "outputs": [],
   "source": []
  }
 ],
 "metadata": {
  "kernelspec": {
   "display_name": "Python 3 (ipykernel)",
   "language": "python",
   "name": "python3"
  },
  "language_info": {
   "codemirror_mode": {
    "name": "ipython",
    "version": 3
   },
   "file_extension": ".py",
   "mimetype": "text/x-python",
   "name": "python",
   "nbconvert_exporter": "python",
   "pygments_lexer": "ipython3",
   "version": "3.13.5"
  }
 },
 "nbformat": 4,
 "nbformat_minor": 5
}
