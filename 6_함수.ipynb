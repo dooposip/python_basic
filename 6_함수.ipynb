{
 "cells": [
  {
   "cell_type": "markdown",
   "id": "dfdeb7fb-2f39-4402-bc8d-0a0ae47814be",
   "metadata": {},
   "source": [
    "# 3. 파이썬 함수\n"
   ]
  },
  {
   "cell_type": "code",
   "execution_count": 11,
   "id": "e57555e8-35f4-4ffb-8a1f-6282876c8f46",
   "metadata": {},
   "outputs": [
    {
     "name": "stdout",
     "output_type": "stream",
     "text": [
      "7\n",
      "333\n"
     ]
    }
   ],
   "source": [
    "# 함수의 구조\n",
    "def add(a,b):\n",
    "    return a+b\n",
    "\n",
    "a,b = 3,4\n",
    "c = add(a,b)\n",
    "print(c)\n",
    "\n",
    "d = add(111,222)\n",
    "print(d)"
   ]
  },
  {
   "cell_type": "code",
   "execution_count": 13,
   "id": "55ecfc61-9631-4f72-9e82-0b87640cf26f",
   "metadata": {},
   "outputs": [
    {
     "name": "stdout",
     "output_type": "stream",
     "text": [
      "7\n",
      "None\n",
      "333\n",
      "None\n"
     ]
    }
   ],
   "source": [
    "def add(a,b):\n",
    "    print(a+b)\n",
    "\n",
    "a,b = 3,4\n",
    "c = add(a,b)\n",
    "print(c)\n",
    "\n",
    "d = add(111,222)\n",
    "print(d)"
   ]
  },
  {
   "cell_type": "code",
   "execution_count": 16,
   "id": "3705d10d-3ef2-4014-a62b-25671001b6d0",
   "metadata": {},
   "outputs": [
    {
     "name": "stdout",
     "output_type": "stream",
     "text": [
      "6\n"
     ]
    }
   ],
   "source": [
    "# 1. 매개변수 0, 리턴값 0\n",
    "def miuns(a,b):\n",
    "    result = a - b\n",
    "    return result\n",
    "\n",
    "a = miuns(10,4)\n",
    "print(a)"
   ]
  },
  {
   "cell_type": "code",
   "execution_count": 17,
   "id": "2d42e8fa-852c-4150-bfca-63ec4b2b23a6",
   "metadata": {},
   "outputs": [
    {
     "name": "stdout",
     "output_type": "stream",
     "text": [
      "Hi!\n"
     ]
    }
   ],
   "source": [
    "# 2. 매개변수 x, 리턴값 0\n",
    "def say():\n",
    "    return 'Hi!'\n",
    "\n",
    "print(say())"
   ]
  },
  {
   "cell_type": "code",
   "execution_count": 20,
   "id": "56925310-6b58-4556-bc20-a3dfbd9e90d6",
   "metadata": {},
   "outputs": [
    {
     "name": "stdout",
     "output_type": "stream",
     "text": [
      "12, 24의 합은 36입니다.\n",
      "3, 4의 합은 7입니다.\n",
      "None\n"
     ]
    }
   ],
   "source": [
    "# 3. 매개변수 0, 리턴값 x\n",
    "def add(x,y):\n",
    "    print(\"%d, %d의 합은 %d입니다.\"%(x,y, x+y))\n",
    "\n",
    "add(12,24)\n",
    "\n",
    "a = add(3,4)\n",
    "print(a)"
   ]
  },
  {
   "cell_type": "code",
   "execution_count": 21,
   "id": "59d1efb1-17e2-4208-9cad-d150cab06706",
   "metadata": {},
   "outputs": [
    {
     "name": "stdout",
     "output_type": "stream",
     "text": [
      "H1~\n"
     ]
    }
   ],
   "source": [
    "# 4. 매개변수 x, 리턴값 x\n",
    "def say():\n",
    "    print('H1~')\n",
    "\n",
    "say()"
   ]
  },
  {
   "cell_type": "code",
   "execution_count": 26,
   "id": "c6270a86-fb4f-46b4-aa0a-6825d656f30c",
   "metadata": {},
   "outputs": [
    {
     "name": "stdout",
     "output_type": "stream",
     "text": [
      "4\n",
      "4\n"
     ]
    }
   ],
   "source": [
    "# 키워드 매개변수\n",
    "def sub(a,b):\n",
    "    return a - b\n",
    "result = sub(7,3)\n",
    "print(result)\n",
    "\n",
    "result2 = sub(b=3, a=7)\n",
    "print(result2)"
   ]
  },
  {
   "cell_type": "code",
   "execution_count": 28,
   "id": "3642be43-64f6-40c1-befb-c5ac52a5b35c",
   "metadata": {},
   "outputs": [
    {
     "name": "stdout",
     "output_type": "stream",
     "text": [
      "6\n"
     ]
    }
   ],
   "source": [
    "# 가변 매개변수(*매개변수명)\n",
    "def add_many(*args):\n",
    "    result = 0\n",
    "    for i in args:\n",
    "        result = result + i\n",
    "    return result\n",
    "\n",
    "result = add_many(1,2,3)\n",
    "print(result)"
   ]
  },
  {
   "cell_type": "code",
   "execution_count": 29,
   "id": "b758a0d2-e4ea-4a22-abbd-0ebcb4f59391",
   "metadata": {},
   "outputs": [
    {
     "name": "stdout",
     "output_type": "stream",
     "text": [
      "55\n"
     ]
    }
   ],
   "source": [
    "result = add_many(1,2,3,4,5,6,7,8,9,10)\n",
    "print(result)"
   ]
  },
  {
   "cell_type": "code",
   "execution_count": 30,
   "id": "0062e387-a3fe-41eb-86d7-0af69a6adbe6",
   "metadata": {},
   "outputs": [
    {
     "name": "stdout",
     "output_type": "stream",
     "text": [
      "15\n"
     ]
    }
   ],
   "source": [
    "res1 = add_many(1,2,3,4,5)\n",
    "print(res1)"
   ]
  },
  {
   "cell_type": "code",
   "execution_count": 32,
   "id": "ef7f9a26-a85e-49c5-b2de-734c62487739",
   "metadata": {},
   "outputs": [
    {
     "name": "stdout",
     "output_type": "stream",
     "text": [
      "21\n"
     ]
    }
   ],
   "source": [
    "res2 = add_many(1,2,3,4,5,6)\n",
    "print(res2)"
   ]
  },
  {
   "cell_type": "code",
   "execution_count": 55,
   "id": "28189708-8e07-4fbf-b6c5-251ab01da57b",
   "metadata": {},
   "outputs": [
    {
     "name": "stdout",
     "output_type": "stream",
     "text": [
      "15\n",
      "120\n"
     ]
    }
   ],
   "source": [
    "# 덧세므 곱셈 둘다 연산 가능한 함수\n",
    "def add_mul(choice, *args):\n",
    "    if choice == 'add':\n",
    "        result = 0\n",
    "        for i in args:\n",
    "            result = result + i\n",
    "    elif choice =='mul':\n",
    "        result = 1\n",
    "        for i in args:\n",
    "            result = result * i\n",
    "    return result\n",
    "\n",
    "result = add_mul('add',1,2,3,4,5) \n",
    "print(result)\n",
    "\n",
    "result = add_mul('mul',1,2,3,4,5)\n",
    "print(result)"
   ]
  },
  {
   "cell_type": "code",
   "execution_count": 57,
   "id": "dc3db320-a091-4bfa-a949-dd715ec3c5a3",
   "metadata": {},
   "outputs": [
    {
     "name": "stdout",
     "output_type": "stream",
     "text": [
      "6\n",
      "6\n"
     ]
    }
   ],
   "source": [
    "def add_mul(choice, *args):\n",
    "    if choice == 'add':\n",
    "        result = 0\n",
    "        for i in args:\n",
    "            result += i\n",
    "    elif choice =='mul':\n",
    "        result = 1\n",
    "        for i in args:\n",
    "            result *= i\n",
    "    return result\n",
    "\n",
    "res1 = add_mul('add',1,2,3)  #add가 뒤로가면 오류\n",
    "print(res1)\n",
    "\n",
    "res2 = add_mul('mul',1,2,3)\n",
    "print(res2)"
   ]
  },
  {
   "cell_type": "code",
   "execution_count": 60,
   "id": "a9a5088a-21c2-402f-bf6f-4969078cf64e",
   "metadata": {},
   "outputs": [
    {
     "name": "stdout",
     "output_type": "stream",
     "text": [
      "{'a': 1}\n",
      "{'name': 'foo', 'age': 3}\n"
     ]
    }
   ],
   "source": [
    "# 키워드 매개변수를 사용할 때는 매개변수 앞에 별 2개(**)를 붙인다.\n",
    "def print_kwargs(**kwargs):\n",
    "    print(kwargs)\n",
    "\n",
    "print_kwargs(a=1)\n",
    "\n",
    "print_kwargs(name='foo', age=3)"
   ]
  },
  {
   "cell_type": "code",
   "execution_count": 63,
   "id": "0e723fdd-4b6a-4924-a579-f4b43088d21e",
   "metadata": {},
   "outputs": [
    {
     "name": "stdout",
     "output_type": "stream",
     "text": [
      "(7, 12)\n",
      "a+v = 7\n",
      "a*b = 12\n"
     ]
    }
   ],
   "source": [
    "#함수의 리턴값은 하나!!\n",
    "def add_and_mul(a,b):\n",
    "    return a+b, a*b\n",
    "\n",
    "res = add_and_mul(3,4)\n",
    "print(res)\n",
    "\n",
    "res1, res2= add_and_mul(3,4)\n",
    "print(\"a+v =\",res1)\n",
    "print(\"a*b =\",res2)"
   ]
  },
  {
   "cell_type": "code",
   "execution_count": 64,
   "id": "8c01f454-4ada-43de-8b57-0c5dfaf79a19",
   "metadata": {},
   "outputs": [
    {
     "name": "stdout",
     "output_type": "stream",
     "text": [
      "5\n"
     ]
    }
   ],
   "source": [
    "def add_and_mul(a,b):\n",
    "    return a+b\n",
    "    return a*b\n",
    "\n",
    "res = add_and_mul(2,3)\n",
    "print(res)"
   ]
  },
  {
   "cell_type": "code",
   "execution_count": 66,
   "id": "f7cc87fd-4dad-4429-86dd-d5689c87a693",
   "metadata": {},
   "outputs": [
    {
     "name": "stdout",
     "output_type": "stream",
     "text": [
      "나의 별명은 야호 입니다.\n"
     ]
    }
   ],
   "source": [
    "# return의 또 다른 쓰임새\n",
    "def say_nuck(nick):\n",
    "    if nick =='바보' :\n",
    "        return\n",
    "    print(\"나의 별명은 %s 입니다.\"%nick)\n",
    "\n",
    "say_nuck(\"야호\")\n",
    "say_nuck(\"바보\")"
   ]
  },
  {
   "cell_type": "code",
   "execution_count": 73,
   "id": "26981844-2052-4e7f-8c10-bb890e5f0e44",
   "metadata": {},
   "outputs": [
    {
     "name": "stdout",
     "output_type": "stream",
     "text": [
      "나의 이름은 정두균입니다.\n",
      "나이는 30살 입니다.\n",
      "남자입니다.\n",
      "나의 이름은 홍길동입니다.\n",
      "나이는 30살 입니다.\n",
      "여자입니다.\n"
     ]
    }
   ],
   "source": [
    "# 매개변수에 초깃값 설정하기\n",
    "def say_myself(name, age, man=True):\n",
    "    print(f\"나의 이름은 {name}입니다.\")\n",
    "    print(f\"나이는 {age}살 입니다.\")\n",
    "    if man:\n",
    "        print(\"남자입니다.\")\n",
    "    else:\n",
    "        print(\"여자입니다.\")\n",
    "\n",
    "say_myself(\"정두균\",30)\n",
    "\n",
    "say_myself(\"홍길동\",30 ,False)"
   ]
  },
  {
   "cell_type": "code",
   "execution_count": 75,
   "id": "4254b97d-6d0d-4eac-a64a-512fd4e85de2",
   "metadata": {},
   "outputs": [
    {
     "ename": "SyntaxError",
     "evalue": "parameter without a default follows parameter with a default (2592637062.py, line 2)",
     "output_type": "error",
     "traceback": [
      "\u001b[1;36m  Cell \u001b[1;32mIn[75], line 2\u001b[1;36m\u001b[0m\n\u001b[1;33m    def say_myself(name, man=True, age):\u001b[0m\n\u001b[1;37m                                   ^\u001b[0m\n\u001b[1;31mSyntaxError\u001b[0m\u001b[1;31m:\u001b[0m parameter without a default follows parameter with a default\n"
     ]
    }
   ],
   "source": [
    "# 에러 예시\n",
    "def say_myself(name, man=True, age):\n",
    "    print(f\"나의 이름은 {name}입니다.\")\n",
    "    print(f\"나이는 {age}살 입니다.\")\n",
    "    if man:\n",
    "        print(\"남자입니다.\")\n",
    "    else:\n",
    "        print(\"여자입니다.\")\n",
    "\n",
    "say_myself(\"정두균\",30)"
   ]
  },
  {
   "cell_type": "code",
   "execution_count": 78,
   "id": "6424e501-5134-4ce3-a058-1ca2748f24d8",
   "metadata": {},
   "outputs": [
    {
     "name": "stdout",
     "output_type": "stream",
     "text": [
      "1\n"
     ]
    }
   ],
   "source": [
    "# 함수 안에서 선언한 변수의 유료 범위\n",
    "a= 1\n",
    "def vartest(a):\n",
    "    a=a+1\n",
    "\n",
    "vartest(a) #아무것도 실행 안됨\n",
    "print(a) # 함수 밖에 있는 a출력됨"
   ]
  },
  {
   "cell_type": "code",
   "execution_count": 80,
   "id": "6c6a265c-06b2-4b42-84b9-f5a77da3993d",
   "metadata": {},
   "outputs": [
    {
     "name": "stdout",
     "output_type": "stream",
     "text": [
      "2\n"
     ]
    }
   ],
   "source": [
    "a= 1\n",
    "def vartest(a):\n",
    "    a = a+1\n",
    "    return a\n",
    "\n",
    "a = vartest(a) # 함수 실행하면 a값 반환되고 a변수에 덮어씀.\n",
    "print(a)"
   ]
  },
  {
   "cell_type": "code",
   "execution_count": 83,
   "id": "c8a2c1a0-4491-4cb7-a293-da4377c3ef18",
   "metadata": {},
   "outputs": [
    {
     "name": "stdout",
     "output_type": "stream",
     "text": [
      "2\n"
     ]
    }
   ],
   "source": [
    "# 함수의 유효범위 => 1. return 사용하기\n",
    "a= 1\n",
    "def vartest(x):\n",
    "    x = x+1\n",
    "    return x\n",
    "\n",
    "a = vartest(a)\n",
    "print(a)"
   ]
  },
  {
   "cell_type": "code",
   "execution_count": 85,
   "id": "d89c02a8-f81a-48e6-8042-3eaf8f1b4c74",
   "metadata": {},
   "outputs": [
    {
     "name": "stdout",
     "output_type": "stream",
     "text": [
      "1\n"
     ]
    }
   ],
   "source": [
    "# 함수의 유효범위 => 2. globa 명령어 사용하기\n",
    "a = 1\n",
    "def vartest():\n",
    "    global a #함수 안에서 a는 전역변수로 변경됨\n",
    "    a +=1\n",
    "\n",
    "# vartest(a)\n",
    "print(a)"
   ]
  },
  {
   "cell_type": "code",
   "execution_count": 87,
   "id": "6150f07f-482c-4497-a6f5-6cee9c80e2fb",
   "metadata": {},
   "outputs": [
    {
     "name": "stdout",
     "output_type": "stream",
     "text": [
      "7\n"
     ]
    }
   ],
   "source": [
    "# lambda 표현식(예약어) 사용 안하고 함수 선언\n",
    "def add(a,b):\n",
    "    return a+b\n",
    "\n",
    "print(add(3,4))"
   ]
  },
  {
   "cell_type": "code",
   "execution_count": 88,
   "id": "5222cfd2-aa60-48ef-aeee-841531301bbc",
   "metadata": {},
   "outputs": [
    {
     "name": "stdout",
     "output_type": "stream",
     "text": [
      "7\n"
     ]
    }
   ],
   "source": [
    "# lambda 표현식(예약어) 사용하여 선언\n",
    "add = lambda a,b : a + b\n",
    "print(add(3,4))"
   ]
  },
  {
   "cell_type": "markdown",
   "id": "93f5b0db-8c4c-42d8-b9b9-0566cfb22cf8",
   "metadata": {},
   "source": [
    "## 2. 함수의 활용"
   ]
  },
  {
   "cell_type": "markdown",
   "id": "f85bcb69-8d45-4667-8248-09f8afe1d82a",
   "metadata": {},
   "source": [
    "#### 1)재귀 함수\n",
    ": 내가 만든 함수를 다시 호풀하는 것"
   ]
  },
  {
   "cell_type": "code",
   "execution_count": 89,
   "id": "9dab5d4f-6b8d-4069-9b84-62e5b6b041c2",
   "metadata": {},
   "outputs": [
    {
     "name": "stdout",
     "output_type": "stream",
     "text": [
      "5! =  120\n"
     ]
    }
   ],
   "source": [
    "def factorial(n):\n",
    "    ouput = 1\n",
    "    for i in range(1, n+1):\n",
    "        ouput *= i\n",
    "    return ouput\n",
    "\n",
    "print('5! = ', factorial(5))"
   ]
  },
  {
   "cell_type": "code",
   "execution_count": 91,
   "id": "2e11273d-9b84-4b5e-bacd-a07cb671934d",
   "metadata": {},
   "outputs": [
    {
     "name": "stdout",
     "output_type": "stream",
     "text": [
      "5! =  120\n"
     ]
    }
   ],
   "source": [
    "# 재귀 함수로 팩토리얼 구하기\n",
    "def factorial(n):\n",
    "    if n ==0:\n",
    "        return 1\n",
    "    else:\n",
    "        return n * factorial (n-1)\n",
    "        \n",
    "print('5! = ', factorial(5))  "
   ]
  },
  {
   "cell_type": "markdown",
   "id": "9cf5266f-9c85-4e6b-a099-45c7f6d29031",
   "metadata": {},
   "source": [
    "#### 2) 리스트 평탄화하는 재귀함수 만들기"
   ]
  },
  {
   "cell_type": "code",
   "execution_count": 92,
   "id": "d7a844e9-da40-4d59-8b6b-3f6c33d71cdf",
   "metadata": {},
   "outputs": [
    {
     "name": "stdout",
     "output_type": "stream",
     "text": [
      "4\n",
      "원본: [[1, 2, 3], [4, [5, 6]], 7, [8, 9]]\n",
      "평탄화 :  [1, 2, 3, 4, [5, 6], 7, 8, 9]\n"
     ]
    }
   ],
   "source": [
    "# 반복문으로 리스트 평탄화\n",
    "def flatten(data):\n",
    "    output = []\n",
    "    for item in data:\n",
    "        if type(item)  == list:\n",
    "            output += item\n",
    "            print(output)\n",
    "        else:\n",
    "            output.append(item)\n",
    "    return output\n",
    "\n",
    "example = [[1,2,3],[4,[5,6]],7,[8,9]]\n",
    "print(len(example))\n",
    "print('원본:', example)\n",
    "print('평탄화 : ', flatten(example))"
   ]
  },
  {
   "cell_type": "code",
   "execution_count": 93,
   "id": "b7b10139-4b7a-44fa-899c-0a56def0d093",
   "metadata": {},
   "outputs": [
    {
     "name": "stdout",
     "output_type": "stream",
     "text": [
      "4\n",
      "원본: [[1, 2, 3], [4, [5, 6]], 7, [8, 9]]\n",
      "[1, 2, 3]\n",
      "[1, 2, 3, 4, [5, 6]]\n",
      "[1, 2, 3, 4, [5, 6], 7, 8, 9]\n",
      "평탄화 :  [1, 2, 3, 4, [5, 6], 7, 8, 9]\n"
     ]
    }
   ],
   "source": [
    "def flatten(data):\n",
    "    output = []\n",
    "    for item in data:\n",
    "        if type(item)  == list:\n",
    "            output += item\n",
    "            print(output)\n",
    "        else:\n",
    "            output.append(item)\n",
    "    return output\n",
    "\n",
    "example = [[1,2,3],[4,[5,6]],7,[8,9]]\n",
    "print(len(example))\n",
    "print('원본:', example)\n",
    "print('평탄화 : ', flatten(example))"
   ]
  },
  {
   "cell_type": "code",
   "execution_count": 96,
   "id": "da457c1a-af42-480d-ba70-8f506b2f116a",
   "metadata": {},
   "outputs": [
    {
     "name": "stdout",
     "output_type": "stream",
     "text": [
      "원본: [[1, 2, 3], [4, [5, 6]], 7, [8, 9]]\n",
      "평탄화 :  [1, 2, 3, 4, 5, 6, 7, 8, 9]\n"
     ]
    }
   ],
   "source": [
    "# 재귀 함수로 리스트 평탄화\n",
    "def flatten(data):\n",
    "    output = []\n",
    "    for item in data:\n",
    "        if type(item)  == list:\n",
    "            output += flatten(item)\n",
    "           # print(output)\n",
    "        else:\n",
    "            output.append(item)\n",
    "    return output\n",
    "\n",
    "example = [[1,2,3],[4,[5,6]],7,[8,9]]\n",
    "print('원본:', example)\n",
    "print('평탄화 : ', flatten(example))"
   ]
  },
  {
   "cell_type": "code",
   "execution_count": null,
   "id": "002334c8-84ea-492e-a58b-2d12da0cfef9",
   "metadata": {},
   "outputs": [],
   "source": []
  }
 ],
 "metadata": {
  "kernelspec": {
   "display_name": "Python 3 (ipykernel)",
   "language": "python",
   "name": "python3"
  },
  "language_info": {
   "codemirror_mode": {
    "name": "ipython",
    "version": 3
   },
   "file_extension": ".py",
   "mimetype": "text/x-python",
   "name": "python",
   "nbconvert_exporter": "python",
   "pygments_lexer": "ipython3",
   "version": "3.13.5"
  }
 },
 "nbformat": 4,
 "nbformat_minor": 5
}
