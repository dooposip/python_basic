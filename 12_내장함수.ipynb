{
 "cells": [
  {
   "cell_type": "markdown",
   "id": "f3b8212c-f3c3-4e17-830f-b3b293377b90",
   "metadata": {},
   "source": [
    "abs() : 절댓값"
   ]
  },
  {
   "cell_type": "code",
   "execution_count": 1,
   "id": "afe9418c-511a-40a2-b4a9-e0e750180692",
   "metadata": {},
   "outputs": [
    {
     "name": "stdout",
     "output_type": "stream",
     "text": [
      "3\n",
      "3\n"
     ]
    }
   ],
   "source": [
    "print(abs(3))\n",
    "print(abs(-3))"
   ]
  },
  {
   "cell_type": "markdown",
   "id": "2982895f-6a28-49a5-8341-34cebf9ddc15",
   "metadata": {},
   "source": [
    "all(): 반복 가능한 데이터에서 각 요소 확인하여 모든 요소가 팜이면 True"
   ]
  },
  {
   "cell_type": "code",
   "execution_count": 2,
   "id": "b24e5620-c76c-45ec-8451-e2b06055be20",
   "metadata": {},
   "outputs": [
    {
     "data": {
      "text/plain": [
       "True"
      ]
     },
     "execution_count": 2,
     "metadata": {},
     "output_type": "execute_result"
    }
   ],
   "source": [
    "all([1,2,3])"
   ]
  },
  {
   "cell_type": "code",
   "execution_count": 3,
   "id": "b3a73b1e-c40e-46be-abdb-39eac1227c0b",
   "metadata": {},
   "outputs": [
    {
     "data": {
      "text/plain": [
       "False"
      ]
     },
     "execution_count": 3,
     "metadata": {},
     "output_type": "execute_result"
    }
   ],
   "source": [
    "all((0,1,2,3))"
   ]
  },
  {
   "cell_type": "code",
   "execution_count": 4,
   "id": "14c3efbd-35a8-4582-a1ea-d27838b075af",
   "metadata": {},
   "outputs": [
    {
     "data": {
      "text/plain": [
       "True"
      ]
     },
     "execution_count": 4,
     "metadata": {},
     "output_type": "execute_result"
    }
   ],
   "source": [
    "all([])"
   ]
  },
  {
   "cell_type": "code",
   "execution_count": 5,
   "id": "b7f7f5f5-9f97-4280-b56a-15da359dda52",
   "metadata": {},
   "outputs": [
    {
     "data": {
      "text/plain": [
       "True"
      ]
     },
     "execution_count": 5,
     "metadata": {},
     "output_type": "execute_result"
    }
   ],
   "source": [
    "all(\"\")"
   ]
  },
  {
   "cell_type": "code",
   "execution_count": 6,
   "id": "a4566b46-83ee-47ac-9f52-b05d8dfe8634",
   "metadata": {},
   "outputs": [
    {
     "data": {
      "text/plain": [
       "'a'"
      ]
     },
     "execution_count": 6,
     "metadata": {},
     "output_type": "execute_result"
    }
   ],
   "source": [
    "chr(97)"
   ]
  },
  {
   "cell_type": "code",
   "execution_count": 7,
   "id": "43ea1201-2916-4012-8319-e8bafc0ad61d",
   "metadata": {},
   "outputs": [
    {
     "data": {
      "text/plain": [
       "'A'"
      ]
     },
     "execution_count": 7,
     "metadata": {},
     "output_type": "execute_result"
    }
   ],
   "source": [
    "chr(65)"
   ]
  },
  {
   "cell_type": "code",
   "execution_count": 8,
   "id": "a878ff07-9656-4566-b9c0-0709d883891c",
   "metadata": {},
   "outputs": [
    {
     "data": {
      "text/plain": [
       "['__add__',\n",
       " '__class__',\n",
       " '__class_getitem__',\n",
       " '__contains__',\n",
       " '__delattr__',\n",
       " '__delitem__',\n",
       " '__dir__',\n",
       " '__doc__',\n",
       " '__eq__',\n",
       " '__format__',\n",
       " '__ge__',\n",
       " '__getattribute__',\n",
       " '__getitem__',\n",
       " '__getstate__',\n",
       " '__gt__',\n",
       " '__hash__',\n",
       " '__iadd__',\n",
       " '__imul__',\n",
       " '__init__',\n",
       " '__init_subclass__',\n",
       " '__iter__',\n",
       " '__le__',\n",
       " '__len__',\n",
       " '__lt__',\n",
       " '__mul__',\n",
       " '__ne__',\n",
       " '__new__',\n",
       " '__reduce__',\n",
       " '__reduce_ex__',\n",
       " '__repr__',\n",
       " '__reversed__',\n",
       " '__rmul__',\n",
       " '__setattr__',\n",
       " '__setitem__',\n",
       " '__sizeof__',\n",
       " '__str__',\n",
       " '__subclasshook__',\n",
       " 'append',\n",
       " 'clear',\n",
       " 'copy',\n",
       " 'count',\n",
       " 'extend',\n",
       " 'index',\n",
       " 'insert',\n",
       " 'pop',\n",
       " 'remove',\n",
       " 'reverse',\n",
       " 'sort']"
      ]
     },
     "execution_count": 8,
     "metadata": {},
     "output_type": "execute_result"
    }
   ],
   "source": [
    "dir([1,2,3])"
   ]
  },
  {
   "cell_type": "markdown",
   "id": "4165e3ca-1dbb-4637-a910-003776da41e5",
   "metadata": {},
   "source": [
    "divmod(): 두 수 나누기 후 몫과 나머지를 튜플로 반환"
   ]
  },
  {
   "cell_type": "code",
   "execution_count": 9,
   "id": "08a064fe-c2ba-49d9-8c98-ad8d7ae4f8e0",
   "metadata": {},
   "outputs": [
    {
     "data": {
      "text/plain": [
       "(2, 1)"
      ]
     },
     "execution_count": 9,
     "metadata": {},
     "output_type": "execute_result"
    }
   ],
   "source": [
    "divmod(7,3)"
   ]
  },
  {
   "cell_type": "code",
   "execution_count": 10,
   "id": "cc232b07-16b0-416d-8351-318438c5475d",
   "metadata": {},
   "outputs": [
    {
     "data": {
      "text/plain": [
       "2"
      ]
     },
     "execution_count": 10,
     "metadata": {},
     "output_type": "execute_result"
    }
   ],
   "source": [
    "7//3"
   ]
  },
  {
   "cell_type": "code",
   "execution_count": 11,
   "id": "ad8f0167-9f74-4297-927d-2723455800d4",
   "metadata": {},
   "outputs": [
    {
     "data": {
      "text/plain": [
       "1"
      ]
     },
     "execution_count": 11,
     "metadata": {},
     "output_type": "execute_result"
    }
   ],
   "source": [
    "7%3"
   ]
  },
  {
   "cell_type": "markdown",
   "id": "61743a45-4011-4b18-8aa4-4aff25f57d21",
   "metadata": {},
   "source": [
    "enumerate(): 순서가 있는 데이터의 인데스 값을 포함하는 enumerate객체를 리턴"
   ]
  },
  {
   "cell_type": "code",
   "execution_count": 12,
   "id": "3dc7ee8e-e73f-4a43-bccc-49ad500943e7",
   "metadata": {},
   "outputs": [
    {
     "name": "stdout",
     "output_type": "stream",
     "text": [
      "0 body\n",
      "1 foo\n",
      "2 bar\n"
     ]
    }
   ],
   "source": [
    "for i, name in enumerate(['body', 'foo', 'bar']):\n",
    "    print(i, name)"
   ]
  },
  {
   "cell_type": "code",
   "execution_count": 15,
   "id": "6ef35f8c-0f37-4146-80f9-ce97fb9c686b",
   "metadata": {},
   "outputs": [
    {
     "name": "stdout",
     "output_type": "stream",
     "text": [
      "0 a\n",
      "1 b\n",
      "2 c\n"
     ]
    }
   ],
   "source": [
    "for i, k in enumerate({'a':1, 'b':2, 'c':3}):\n",
    "    print(i, k)"
   ]
  },
  {
   "cell_type": "code",
   "execution_count": 16,
   "id": "326ea9b4-523e-4163-a1ef-35bbb3165a09",
   "metadata": {},
   "outputs": [
    {
     "name": "stdout",
     "output_type": "stream",
     "text": [
      "1+2\n"
     ]
    }
   ],
   "source": [
    "print(\"1+2\")"
   ]
  },
  {
   "cell_type": "code",
   "execution_count": 19,
   "id": "d1d68c05-7b66-488f-b656-65429b6834f4",
   "metadata": {},
   "outputs": [
    {
     "name": "stdout",
     "output_type": "stream",
     "text": [
      "3\n"
     ]
    }
   ],
   "source": [
    "print(eval(\"1+2\"))"
   ]
  },
  {
   "cell_type": "code",
   "execution_count": 20,
   "id": "9f29171f-6abf-4c00-abdd-53bbfd2bf44c",
   "metadata": {},
   "outputs": [
    {
     "data": {
      "text/plain": [
       "'hia'"
      ]
     },
     "execution_count": 20,
     "metadata": {},
     "output_type": "execute_result"
    }
   ],
   "source": [
    "eval(\"'hi'+'a'\")"
   ]
  },
  {
   "cell_type": "code",
   "execution_count": 25,
   "id": "c84d03ad-4ac9-4d7d-ac76-f19b2e198f2b",
   "metadata": {},
   "outputs": [
    {
     "name": "stdout",
     "output_type": "stream",
     "text": [
      "[1, 2, 6]\n"
     ]
    }
   ],
   "source": [
    "#일반 함수로 양수값만 리턴\n",
    "def positive(li):\n",
    "    result =[]\n",
    "    for i in li:\n",
    "        if i>0:\n",
    "            result.append(i)\n",
    "    return result\n",
    "    \n",
    "print(positive([1,-3,2,0,-5,6]))"
   ]
  },
  {
   "cell_type": "code",
   "execution_count": 26,
   "id": "2b69057a-2a81-4fdc-ab99-7ac50aa66e72",
   "metadata": {},
   "outputs": [
    {
     "name": "stdout",
     "output_type": "stream",
     "text": [
      "[1, 2, 6]\n"
     ]
    }
   ],
   "source": [
    "# filter함수로 양수 갑만 반환\n",
    "def positive(x):\n",
    "    return x>0\n",
    "print(list(filter(positive, [1,-3,2,0,-5,6])))"
   ]
  },
  {
   "cell_type": "code",
   "execution_count": 27,
   "id": "a92015b5-fca9-4a1c-ab64-c148f29c3c5c",
   "metadata": {},
   "outputs": [
    {
     "data": {
      "text/plain": [
       "[1, 2, 6]"
      ]
     },
     "execution_count": 27,
     "metadata": {},
     "output_type": "execute_result"
    }
   ],
   "source": [
    "# lanbda함수 사용\n",
    "list(filter(lambda x: x>0,[1,-3,2,0,-5,6]))"
   ]
  },
  {
   "cell_type": "markdown",
   "id": "0786ac2f-4fbd-451d-b886-2ec12b110d08",
   "metadata": {},
   "source": [
    "map() : map안에서 선언한 함수의 결과값을 반환"
   ]
  },
  {
   "cell_type": "code",
   "execution_count": 30,
   "id": "fca94e87-c37e-41dd-ad69-3adc6b163864",
   "metadata": {},
   "outputs": [
    {
     "name": "stdout",
     "output_type": "stream",
     "text": [
      "[2, 4, 6, 8]\n"
     ]
    }
   ],
   "source": [
    "#일반함수로 리스트 각 요소에 *2\n",
    "def two_times(list):\n",
    "    result = []\n",
    "    for i in list:\n",
    "        result.append(i*2)\n",
    "    return result\n",
    "print(two_times([1,2,3,4]))"
   ]
  },
  {
   "cell_type": "code",
   "execution_count": 32,
   "id": "1c8a8cea-bee2-4163-8dfd-5907f7cef938",
   "metadata": {},
   "outputs": [
    {
     "name": "stdout",
     "output_type": "stream",
     "text": [
      "0xea\n"
     ]
    }
   ],
   "source": [
    "print(hex(234))"
   ]
  },
  {
   "cell_type": "code",
   "execution_count": 33,
   "id": "99fc59c4-dea0-41ee-8a08-06500dfe055e",
   "metadata": {},
   "outputs": [
    {
     "name": "stdout",
     "output_type": "stream",
     "text": [
      "0x3\n"
     ]
    }
   ],
   "source": [
    "print(hex(3))"
   ]
  },
  {
   "cell_type": "code",
   "execution_count": 34,
   "id": "4d869b5a-81b1-4d61-a0fe-f035fc6d38b5",
   "metadata": {},
   "outputs": [],
   "source": [
    "a = 3"
   ]
  },
  {
   "cell_type": "code",
   "execution_count": 35,
   "id": "7ff3e260-cc27-4108-afdc-29faac7ef005",
   "metadata": {},
   "outputs": [
    {
     "data": {
      "text/plain": [
       "140733927568360"
      ]
     },
     "execution_count": 35,
     "metadata": {},
     "output_type": "execute_result"
    }
   ],
   "source": [
    "id(a)"
   ]
  },
  {
   "cell_type": "code",
   "execution_count": 36,
   "id": "05e0028f-5193-4789-81f2-88437b9de772",
   "metadata": {},
   "outputs": [
    {
     "data": {
      "text/plain": [
       "140733927568360"
      ]
     },
     "execution_count": 36,
     "metadata": {},
     "output_type": "execute_result"
    }
   ],
   "source": [
    "id(3)"
   ]
  },
  {
   "cell_type": "code",
   "execution_count": 38,
   "id": "0a4f0bf8-01cc-41e2-8fc8-6272cc8d2239",
   "metadata": {},
   "outputs": [
    {
     "data": {
      "text/plain": [
       "140733927568360"
      ]
     },
     "execution_count": 38,
     "metadata": {},
     "output_type": "execute_result"
    }
   ],
   "source": [
    "b=a\n",
    "id(b)"
   ]
  },
  {
   "cell_type": "code",
   "execution_count": 42,
   "id": "6f7589b5-29aa-4bb8-bafe-76f9de1505f1",
   "metadata": {},
   "outputs": [
    {
     "name": "stdout",
     "output_type": "stream",
     "text": [
      "True\n"
     ]
    }
   ],
   "source": [
    "class Person:pass\n",
    "a = Person() # a는 person의 인스턴스\n",
    "print(isinstance(a, Person))"
   ]
  },
  {
   "cell_type": "code",
   "execution_count": 43,
   "id": "42549c41-47d5-4fff-bfb5-2f488857daa6",
   "metadata": {},
   "outputs": [
    {
     "name": "stdout",
     "output_type": "stream",
     "text": [
      "3\n",
      "y\n"
     ]
    }
   ],
   "source": [
    "print(max([1,2,3]))\n",
    "print(max(\"python\"))"
   ]
  },
  {
   "cell_type": "markdown",
   "id": "83869daa-1d02-414d-b3f1-e2cb540c5095",
   "metadata": {},
   "source": [
    "ord() : chr()반대, 문자를 전달인자로 넣으면 유니코드 값 반환"
   ]
  },
  {
   "cell_type": "code",
   "execution_count": 44,
   "id": "2e9a0f23-4f61-483c-8f6f-afdd28934c98",
   "metadata": {},
   "outputs": [
    {
     "name": "stdout",
     "output_type": "stream",
     "text": [
      "97\n",
      "65\n",
      "48\n"
     ]
    }
   ],
   "source": [
    "print(ord('a'))\n",
    "print(ord('A'))\n",
    "print(ord('0'))"
   ]
  },
  {
   "cell_type": "markdown",
   "id": "bc044ad0-18df-4def-ae2c-e193d5f9e9de",
   "metadata": {},
   "source": [
    "range() : 범위값을 반복 가능한 객체로 만들어 리턴"
   ]
  },
  {
   "cell_type": "code",
   "execution_count": 45,
   "id": "991dd735-a554-4e4e-b8b6-86ed30d2897d",
   "metadata": {},
   "outputs": [
    {
     "data": {
      "text/plain": [
       "[0, 1, 2, 3, 4]"
      ]
     },
     "execution_count": 45,
     "metadata": {},
     "output_type": "execute_result"
    }
   ],
   "source": [
    "#인수가 하나일 때\n",
    "list(range(5))"
   ]
  },
  {
   "cell_type": "code",
   "execution_count": 46,
   "id": "c9bc5a6e-5f22-4813-a724-5b1f3f545f65",
   "metadata": {},
   "outputs": [
    {
     "data": {
      "text/plain": [
       "[0, -1, -2, -3, -4, -5, -6, -7, -8, -9]"
      ]
     },
     "execution_count": 46,
     "metadata": {},
     "output_type": "execute_result"
    }
   ],
   "source": [
    "list(range(0,-10,-1))"
   ]
  },
  {
   "cell_type": "code",
   "execution_count": 47,
   "id": "23a79d24-6e92-43f4-9215-462af0181a86",
   "metadata": {},
   "outputs": [
    {
     "data": {
      "text/plain": [
       "['e', 'o', 'r', 'z']"
      ]
     },
     "execution_count": 47,
     "metadata": {},
     "output_type": "execute_result"
    }
   ],
   "source": [
    "sorted(\"zero\")"
   ]
  },
  {
   "cell_type": "code",
   "execution_count": 48,
   "id": "c419b7af-0031-4b25-a066-d6e1b07d1429",
   "metadata": {},
   "outputs": [
    {
     "data": {
      "text/plain": [
       "[(1, 6), (2, 7), (3, 8)]"
      ]
     },
     "execution_count": 48,
     "metadata": {},
     "output_type": "execute_result"
    }
   ],
   "source": [
    "list(zip([1,2,3,4,5],[6,7,8]))"
   ]
  }
 ],
 "metadata": {
  "kernelspec": {
   "display_name": "Python 3 (ipykernel)",
   "language": "python",
   "name": "python3"
  },
  "language_info": {
   "codemirror_mode": {
    "name": "ipython",
    "version": 3
   },
   "file_extension": ".py",
   "mimetype": "text/x-python",
   "name": "python",
   "nbconvert_exporter": "python",
   "pygments_lexer": "ipython3",
   "version": "3.13.5"
  }
 },
 "nbformat": 4,
 "nbformat_minor": 5
}
