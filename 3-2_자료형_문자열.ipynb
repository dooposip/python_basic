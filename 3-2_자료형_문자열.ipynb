{
 "cells": [
  {
   "cell_type": "markdown",
   "id": "8d02e05a-cacb-4c16-9c87-7c8834641f7b",
   "metadata": {},
   "source": [
    "## 3-2_자료형 _문자열"
   ]
  },
  {
   "cell_type": "code",
   "execution_count": 1,
   "id": "c7a7fa4c-c2ac-438f-90cd-8dd1761f9765",
   "metadata": {},
   "outputs": [
    {
     "name": "stdout",
     "output_type": "stream",
     "text": [
      "python's favorite food is perl\n",
      "<class 'str'>\n"
     ]
    }
   ],
   "source": [
    "food = \"python's favorite food is perl\"\n",
    "print(food)\n",
    "print(type(food))"
   ]
  },
  {
   "cell_type": "code",
   "execution_count": 2,
   "id": "ffbbcf42-ad46-4fcf-b40a-58121e5dedbb",
   "metadata": {},
   "outputs": [
    {
     "ename": "SyntaxError",
     "evalue": "unterminated string literal (detected at line 1) (2541065617.py, line 1)",
     "output_type": "error",
     "traceback": [
      "\u001b[1;36m  Cell \u001b[1;32mIn[2], line 1\u001b[1;36m\u001b[0m\n\u001b[1;33m    food = 'python's favorite food is perl'\u001b[0m\n\u001b[1;37m                                          ^\u001b[0m\n\u001b[1;31mSyntaxError\u001b[0m\u001b[1;31m:\u001b[0m unterminated string literal (detected at line 1)\n"
     ]
    }
   ],
   "source": [
    "food = 'python's favorite food is perl'\n",
    "print(food)\n",
    "print(type(food))"
   ]
  },
  {
   "cell_type": "code",
   "execution_count": 3,
   "id": "85f815eb-79c6-488a-a802-5758ad096019",
   "metadata": {},
   "outputs": [
    {
     "ename": "SyntaxError",
     "evalue": "unterminated string literal (detected at line 1) (2981026823.py, line 1)",
     "output_type": "error",
     "traceback": [
      "\u001b[1;36m  Cell \u001b[1;32mIn[3], line 1\u001b[1;36m\u001b[0m\n\u001b[1;33m    food = 'python$'s favorite food is perl'\u001b[0m\n\u001b[1;37m                                           ^\u001b[0m\n\u001b[1;31mSyntaxError\u001b[0m\u001b[1;31m:\u001b[0m unterminated string literal (detected at line 1)\n"
     ]
    }
   ],
   "source": [
    "food = 'python$'s favorite food is perl'\n",
    "print(food)\n",
    "print(type(food))"
   ]
  },
  {
   "cell_type": "code",
   "execution_count": 4,
   "id": "ef16f222-2555-422c-a071-adf58fb79395",
   "metadata": {},
   "outputs": [
    {
     "name": "stdout",
     "output_type": "stream",
     "text": [
      "python's favorite food is perl\n",
      "<class 'str'>\n"
     ]
    }
   ],
   "source": [
    "food = 'python\\'s favorite food is perl'\n",
    "print(food)\n",
    "print(type(food))"
   ]
  },
  {
   "cell_type": "code",
   "execution_count": 5,
   "id": "c6928da1-21cc-4ecc-bddb-a2d8d8ed129b",
   "metadata": {},
   "outputs": [],
   "source": [
    "say = '\"python is very easy.\" he says'"
   ]
  },
  {
   "cell_type": "code",
   "execution_count": 6,
   "id": "f07c4f75-c5b3-469a-bd8e-297b4bd14c09",
   "metadata": {},
   "outputs": [
    {
     "data": {
      "text/plain": [
       "'\"python is very easy.\" he says'"
      ]
     },
     "execution_count": 6,
     "metadata": {},
     "output_type": "execute_result"
    }
   ],
   "source": [
    "say = '\"python is very easy.\" he says'\n",
    "say"
   ]
  },
  {
   "cell_type": "code",
   "execution_count": 7,
   "id": "9cd79865-b63e-4ebc-a59b-a2f42663276d",
   "metadata": {},
   "outputs": [
    {
     "name": "stdout",
     "output_type": "stream",
     "text": [
      "\"python is very easy.\" he says\n"
     ]
    }
   ],
   "source": [
    "print(say)"
   ]
  },
  {
   "cell_type": "code",
   "execution_count": 8,
   "id": "3188484e-34bb-4a3d-a7b7-01c8e70811d5",
   "metadata": {},
   "outputs": [
    {
     "ename": "_IncompleteInputError",
     "evalue": "incomplete input (2723456838.py, line 1)",
     "output_type": "error",
     "traceback": [
      "\u001b[1;36m  Cell \u001b[1;32mIn[8], line 1\u001b[1;36m\u001b[0m\n\u001b[1;33m    say = \"\"\"python is very easy.\" he says\"\u001b[0m\n\u001b[1;37m          ^\u001b[0m\n\u001b[1;31m_IncompleteInputError\u001b[0m\u001b[1;31m:\u001b[0m incomplete input\n"
     ]
    }
   ],
   "source": [
    "say = \"\"\"python is very easy.\" he says\"\n",
    "say"
   ]
  },
  {
   "cell_type": "code",
   "execution_count": 9,
   "id": "13791fa0-0fe9-4a1e-ae8e-9644b79d506b",
   "metadata": {},
   "outputs": [
    {
     "ename": "SyntaxError",
     "evalue": "invalid syntax (2489936933.py, line 1)",
     "output_type": "error",
     "traceback": [
      "\u001b[1;36m  Cell \u001b[1;32mIn[9], line 1\u001b[1;36m\u001b[0m\n\u001b[1;33m    say = \"\\\"\"python is very easy.\" he says\"\u001b[0m\n\u001b[1;37m              ^\u001b[0m\n\u001b[1;31mSyntaxError\u001b[0m\u001b[1;31m:\u001b[0m invalid syntax\n"
     ]
    }
   ],
   "source": [
    "say = \"\\\"\"python is very easy.\" he says\"\n",
    "say"
   ]
  },
  {
   "cell_type": "code",
   "execution_count": 10,
   "id": "21b4b61b-2de0-4a2a-b385-269370d0a6fb",
   "metadata": {},
   "outputs": [
    {
     "data": {
      "text/plain": [
       "'\"python is very easy.\" he says'"
      ]
     },
     "execution_count": 10,
     "metadata": {},
     "output_type": "execute_result"
    }
   ],
   "source": [
    "say = \"\\\"python is very easy.\\\" he says\"\n",
    "say"
   ]
  },
  {
   "cell_type": "markdown",
   "id": "bb8e627e-7976-41b4-bbef-b4a6ffd8ff33",
   "metadata": {},
   "source": [
    "### 여러줄 문자열"
   ]
  },
  {
   "cell_type": "code",
   "execution_count": 11,
   "id": "3f852172-8761-4ddf-a934-7dde21ca826d",
   "metadata": {},
   "outputs": [
    {
     "name": "stdout",
     "output_type": "stream",
     "text": [
      "life is too short you need python\n"
     ]
    }
   ],
   "source": [
    "multiline = \"life is too short you need python\"\n",
    "print(multiline)"
   ]
  },
  {
   "cell_type": "code",
   "execution_count": 12,
   "id": "67421063-5a34-45f6-8eed-05e26763a6c6",
   "metadata": {},
   "outputs": [
    {
     "name": "stdout",
     "output_type": "stream",
     "text": [
      "life is too short\n",
      " you need python\n"
     ]
    }
   ],
   "source": [
    "multiline = \"life is too short\\n you need python\"\n",
    "print(multiline)"
   ]
  },
  {
   "cell_type": "code",
   "execution_count": 13,
   "id": "b06eade8-e3e9-4c43-96af-88847bc678d7",
   "metadata": {},
   "outputs": [
    {
     "name": "stdout",
     "output_type": "stream",
     "text": [
      "life is too short\n",
      "you need python\n"
     ]
    }
   ],
   "source": [
    "multiline = \"life is too short\\nyou need python\"\n",
    "print(multiline)"
   ]
  },
  {
   "cell_type": "code",
   "execution_count": 14,
   "id": "86db494b-41ba-4977-91cf-0b3e5685a42d",
   "metadata": {},
   "outputs": [
    {
     "name": "stdout",
     "output_type": "stream",
     "text": [
      "life is too short \n",
      "you need python\n"
     ]
    }
   ],
   "source": [
    "multiline = \"\"\"life is too short \n",
    "you need python\"\"\"\n",
    "print(multiline)"
   ]
  },
  {
   "cell_type": "markdown",
   "id": "f947f97c-2234-45bf-a299-934b72eb9651",
   "metadata": {},
   "source": [
    "### 문자열 연산"
   ]
  },
  {
   "cell_type": "code",
   "execution_count": 15,
   "id": "63ca5d44-35f1-4d1c-a310-acb283007a9e",
   "metadata": {},
   "outputs": [],
   "source": [
    "head = \"python\""
   ]
  },
  {
   "cell_type": "code",
   "execution_count": 16,
   "id": "3226dc76-ad69-4429-9bc2-f948b2e938a7",
   "metadata": {},
   "outputs": [],
   "source": [
    "tall = \"is fun!\""
   ]
  },
  {
   "cell_type": "code",
   "execution_count": 17,
   "id": "753b8eb0-e969-458e-88c1-dd37e05a9ab7",
   "metadata": {},
   "outputs": [
    {
     "data": {
      "text/plain": [
       "'pythonis fun!'"
      ]
     },
     "execution_count": 17,
     "metadata": {},
     "output_type": "execute_result"
    }
   ],
   "source": [
    "head + tall"
   ]
  },
  {
   "cell_type": "code",
   "execution_count": 18,
   "id": "cdf2367c-6260-4c49-854c-c553a4e368f6",
   "metadata": {},
   "outputs": [
    {
     "data": {
      "text/plain": [
       "'pythonis fun!'"
      ]
     },
     "execution_count": 18,
     "metadata": {},
     "output_type": "execute_result"
    }
   ],
   "source": [
    "head = \"python\"\n",
    "rall = \"is fun!\"\n",
    "head + rall"
   ]
  },
  {
   "cell_type": "code",
   "execution_count": 19,
   "id": "d10ebfd2-855e-4beb-a27c-4b09c45d084e",
   "metadata": {},
   "outputs": [
    {
     "name": "stdout",
     "output_type": "stream",
     "text": [
      "pythonpython\n",
      "pythonpythonpython\n"
     ]
    }
   ],
   "source": [
    "a = \"python\"\n",
    "print(a*2)\n",
    "print(a*3)"
   ]
  },
  {
   "cell_type": "code",
   "execution_count": 20,
   "id": "3f732b0d-77ff-41d6-b95f-f3f10745eaeb",
   "metadata": {},
   "outputs": [
    {
     "name": "stdout",
     "output_type": "stream",
     "text": [
      "==================================================\n"
     ]
    }
   ],
   "source": [
    "print(\"=\"*50)"
   ]
  },
  {
   "cell_type": "markdown",
   "id": "79ce7556-c859-41bf-bf3a-9f387bde9dbc",
   "metadata": {},
   "source": [
    "### 문자열 길이 구하기"
   ]
  },
  {
   "cell_type": "code",
   "execution_count": 21,
   "id": "91f0a623-6dd1-4f31-b840-36050237bd3e",
   "metadata": {},
   "outputs": [
    {
     "data": {
      "text/plain": [
       "17"
      ]
     },
     "execution_count": 21,
     "metadata": {},
     "output_type": "execute_result"
    }
   ],
   "source": [
    "a = \"life is too short\"\n",
    "len(a)"
   ]
  },
  {
   "cell_type": "markdown",
   "id": "5b1b5483-83bd-4e5e-98a9-44c73f12ddb8",
   "metadata": {},
   "source": [
    "### 문자열 인덱싱"
   ]
  },
  {
   "cell_type": "code",
   "execution_count": 22,
   "id": "a691a09f-92c1-4d56-8e71-eea49a520feb",
   "metadata": {},
   "outputs": [
    {
     "data": {
      "text/plain": [
       "'f'"
      ]
     },
     "execution_count": 22,
     "metadata": {},
     "output_type": "execute_result"
    }
   ],
   "source": [
    "a = \" life is too short, you need python\"\n",
    "a[3]"
   ]
  },
  {
   "cell_type": "code",
   "execution_count": 23,
   "id": "b521f2f5-71a9-4be3-8ec0-5d729f34cb99",
   "metadata": {},
   "outputs": [
    {
     "data": {
      "text/plain": [
       "' '"
      ]
     },
     "execution_count": 23,
     "metadata": {},
     "output_type": "execute_result"
    }
   ],
   "source": [
    "a = \" life is too short, you need python\"\n",
    "a[0]"
   ]
  },
  {
   "cell_type": "code",
   "execution_count": 24,
   "id": "072a7640-3a63-420a-95d8-6abdb0054973",
   "metadata": {},
   "outputs": [
    {
     "data": {
      "text/plain": [
       "'l'"
      ]
     },
     "execution_count": 24,
     "metadata": {},
     "output_type": "execute_result"
    }
   ],
   "source": [
    "a = \"life is too short, you need python\"\n",
    "a[0]"
   ]
  },
  {
   "cell_type": "code",
   "execution_count": 25,
   "id": "3fb6292e-4b22-4fdd-8441-6422b5ca45a7",
   "metadata": {},
   "outputs": [
    {
     "data": {
      "text/plain": [
       "34"
      ]
     },
     "execution_count": 25,
     "metadata": {},
     "output_type": "execute_result"
    }
   ],
   "source": [
    "len(a)"
   ]
  },
  {
   "cell_type": "code",
   "execution_count": 26,
   "id": "ea6d4533-916b-4b39-be21-0a8ae3d77feb",
   "metadata": {},
   "outputs": [
    {
     "data": {
      "text/plain": [
       "'n'"
      ]
     },
     "execution_count": 26,
     "metadata": {},
     "output_type": "execute_result"
    }
   ],
   "source": [
    "a[33]"
   ]
  },
  {
   "cell_type": "code",
   "execution_count": 27,
   "id": "08ad1da7-fe63-42cf-8034-63119b7f464a",
   "metadata": {},
   "outputs": [
    {
     "data": {
      "text/plain": [
       "'n'"
      ]
     },
     "execution_count": 27,
     "metadata": {},
     "output_type": "execute_result"
    }
   ],
   "source": [
    "a[-1]"
   ]
  },
  {
   "cell_type": "code",
   "execution_count": 28,
   "id": "710e33b6-0ead-466a-8f37-3bc1284b09e3",
   "metadata": {},
   "outputs": [
    {
     "data": {
      "text/plain": [
       "'o'"
      ]
     },
     "execution_count": 28,
     "metadata": {},
     "output_type": "execute_result"
    }
   ],
   "source": [
    "a[-2]"
   ]
  },
  {
   "cell_type": "code",
   "execution_count": null,
   "id": "2bc31edb-19e3-4e4e-a111-1bd1d503818f",
   "metadata": {},
   "outputs": [],
   "source": []
  },
  {
   "cell_type": "markdown",
   "id": "ede0de60-d887-4942-af93-41ed878868b2",
   "metadata": {},
   "source": [
    "### 문자열 슬라이싱"
   ]
  },
  {
   "cell_type": "code",
   "execution_count": 29,
   "id": "722c9da8-4994-4c98-b159-6615b8ba7c30",
   "metadata": {},
   "outputs": [
    {
     "name": "stdout",
     "output_type": "stream",
     "text": [
      "life\n"
     ]
    }
   ],
   "source": [
    "b = a[0] + a[1] +a[2] + a[3]\n",
    "print(b)"
   ]
  },
  {
   "cell_type": "code",
   "execution_count": 30,
   "id": "fd55b390-fc51-4a86-b0ce-734b802a57cd",
   "metadata": {},
   "outputs": [
    {
     "data": {
      "text/plain": [
       "'life'"
      ]
     },
     "execution_count": 30,
     "metadata": {},
     "output_type": "execute_result"
    }
   ],
   "source": [
    "a[0:4]"
   ]
  },
  {
   "cell_type": "code",
   "execution_count": 31,
   "id": "ae1f7ae2-7558-4feb-9065-64cef21cd7cf",
   "metadata": {},
   "outputs": [
    {
     "data": {
      "text/plain": [
       "'short'"
      ]
     },
     "execution_count": 31,
     "metadata": {},
     "output_type": "execute_result"
    }
   ],
   "source": [
    "a [12:17]"
   ]
  },
  {
   "cell_type": "code",
   "execution_count": 32,
   "id": "d36d31aa-9041-4888-a81f-5149b44fb04e",
   "metadata": {},
   "outputs": [
    {
     "data": {
      "text/plain": [
       "'need'"
      ]
     },
     "execution_count": 32,
     "metadata": {},
     "output_type": "execute_result"
    }
   ],
   "source": [
    "a[23:27]"
   ]
  },
  {
   "cell_type": "code",
   "execution_count": 33,
   "id": "30ab2c0e-4705-425c-8241-f07a2972b324",
   "metadata": {},
   "outputs": [
    {
     "data": {
      "text/plain": [
       "'python'"
      ]
     },
     "execution_count": 33,
     "metadata": {},
     "output_type": "execute_result"
    }
   ],
   "source": [
    "a[28:]"
   ]
  },
  {
   "cell_type": "code",
   "execution_count": 34,
   "id": "da81d61b-047e-4050-aa0e-77fd956984ad",
   "metadata": {},
   "outputs": [
    {
     "data": {
      "text/plain": [
       "'life'"
      ]
     },
     "execution_count": 34,
     "metadata": {},
     "output_type": "execute_result"
    }
   ],
   "source": [
    "a[:4]"
   ]
  },
  {
   "cell_type": "code",
   "execution_count": 35,
   "id": "c36176a6-3505-43d9-afd6-162e2e0268aa",
   "metadata": {},
   "outputs": [
    {
     "data": {
      "text/plain": [
       "'life is too short, you need python'"
      ]
     },
     "execution_count": 35,
     "metadata": {},
     "output_type": "execute_result"
    }
   ],
   "source": [
    "a[:]"
   ]
  },
  {
   "cell_type": "code",
   "execution_count": 1,
   "id": "c114a6b5-0e36-46f8-8cd9-d79163a127cb",
   "metadata": {},
   "outputs": [
    {
     "data": {
      "text/plain": [
       "'p'"
      ]
     },
     "execution_count": 1,
     "metadata": {},
     "output_type": "execute_result"
    }
   ],
   "source": [
    "a = \"pithon\"\n",
    "a[:1]"
   ]
  },
  {
   "cell_type": "code",
   "execution_count": 2,
   "id": "8c709000-1007-46c0-95f8-6194311d36b8",
   "metadata": {},
   "outputs": [
    {
     "data": {
      "text/plain": [
       "'thon'"
      ]
     },
     "execution_count": 2,
     "metadata": {},
     "output_type": "execute_result"
    }
   ],
   "source": [
    "a[2:]\n"
   ]
  },
  {
   "cell_type": "code",
   "execution_count": 5,
   "id": "b952a6af-e306-4abe-a1eb-fbb21f49ef80",
   "metadata": {},
   "outputs": [
    {
     "data": {
      "text/plain": [
       "'python'"
      ]
     },
     "execution_count": 5,
     "metadata": {},
     "output_type": "execute_result"
    }
   ],
   "source": [
    "a[:1] + 'y' + a[2:]"
   ]
  },
  {
   "cell_type": "markdown",
   "id": "e5d84f41-c877-441b-b09c-b1c3dbc0fc67",
   "metadata": {},
   "source": [
    "### pithon 문자열을 python으로 바꾸려면?"
   ]
  },
  {
   "cell_type": "code",
   "execution_count": 6,
   "id": "f0e88ea8-84ee-4a3d-9e47-9e8bf6380db9",
   "metadata": {},
   "outputs": [
    {
     "data": {
      "text/plain": [
       "'p'"
      ]
     },
     "execution_count": 6,
     "metadata": {},
     "output_type": "execute_result"
    }
   ],
   "source": [
    "a = \"pithon\"\n",
    "a[:1]"
   ]
  },
  {
   "cell_type": "code",
   "execution_count": 8,
   "id": "8892c028-e6d9-49c0-aaf3-e34594dfe773",
   "metadata": {},
   "outputs": [],
   "source": [
    "a = \"pithon\""
   ]
  },
  {
   "cell_type": "code",
   "execution_count": 9,
   "id": "453e991d-4a0c-4eae-9cc3-71d2176e122e",
   "metadata": {},
   "outputs": [],
   "source": [
    "a = 'y'"
   ]
  },
  {
   "cell_type": "code",
   "execution_count": 10,
   "id": "b3a50c7c-d794-40aa-9397-f0682ee8ba66",
   "metadata": {},
   "outputs": [
    {
     "ename": "TypeError",
     "evalue": "'str' object does not support item assignment",
     "output_type": "error",
     "traceback": [
      "\u001b[1;31m---------------------------------------------------------------------------\u001b[0m",
      "\u001b[1;31mTypeError\u001b[0m                                 Traceback (most recent call last)",
      "Cell \u001b[1;32mIn[10], line 1\u001b[0m\n\u001b[1;32m----> 1\u001b[0m a[\u001b[38;5;241m1\u001b[39m]\u001b[38;5;241m=\u001b[39m\u001b[38;5;124m'\u001b[39m\u001b[38;5;124my\u001b[39m\u001b[38;5;124m'\u001b[39m\n",
      "\u001b[1;31mTypeError\u001b[0m: 'str' object does not support item assignment"
     ]
    }
   ],
   "source": [
    "a[1]='y'"
   ]
  },
  {
   "cell_type": "code",
   "execution_count": 11,
   "id": "ab9dd53a-5867-4539-8184-5c54165bbf43",
   "metadata": {},
   "outputs": [
    {
     "name": "stdout",
     "output_type": "stream",
     "text": [
      "y\n"
     ]
    }
   ],
   "source": [
    "print(a)"
   ]
  },
  {
   "cell_type": "code",
   "execution_count": 12,
   "id": "9c9e43ca-4ad6-431e-a873-c00c80c9039a",
   "metadata": {},
   "outputs": [],
   "source": [
    "a = \"pithon\""
   ]
  },
  {
   "cell_type": "code",
   "execution_count": 13,
   "id": "8f8b93af-6200-416a-a865-5b0df59b49f7",
   "metadata": {},
   "outputs": [
    {
     "name": "stdout",
     "output_type": "stream",
     "text": [
      "pithon\n"
     ]
    }
   ],
   "source": [
    "print(a)"
   ]
  },
  {
   "cell_type": "code",
   "execution_count": 16,
   "id": "8f24742e-a07e-4689-a90a-e4fb1600e104",
   "metadata": {},
   "outputs": [
    {
     "name": "stdout",
     "output_type": "stream",
     "text": [
      "python\n"
     ]
    }
   ],
   "source": [
    "b = a[0] + 'y' + a[2:]\n",
    "print(b)"
   ]
  },
  {
   "cell_type": "markdown",
   "id": "e8842aa2-1ac7-4f2a-8612-012382f8a5dc",
   "metadata": {},
   "source": [
    "### 문자열 포매팅"
   ]
  },
  {
   "cell_type": "code",
   "execution_count": 17,
   "id": "f3d4fac0-cb05-4e87-a91d-c1534b9b32f2",
   "metadata": {},
   "outputs": [
    {
     "data": {
      "text/plain": [
       "'i eat 3 apples'"
      ]
     },
     "execution_count": 17,
     "metadata": {},
     "output_type": "execute_result"
    }
   ],
   "source": [
    "\"i eat %d apples.\" %3\n",
    "'i eat 3 apples'"
   ]
  },
  {
   "cell_type": "code",
   "execution_count": 18,
   "id": "0da4d810-75cc-4827-ae62-552a57d8a5ea",
   "metadata": {},
   "outputs": [
    {
     "data": {
      "text/plain": [
       "'i eat 3 apples'"
      ]
     },
     "execution_count": 18,
     "metadata": {},
     "output_type": "execute_result"
    }
   ],
   "source": [
    "number = 3\n",
    "\"i eat %d apples\" % number"
   ]
  },
  {
   "cell_type": "code",
   "execution_count": 22,
   "id": "730c78bf-acff-4884-b64e-e5d2176b0662",
   "metadata": {},
   "outputs": [
    {
     "data": {
      "text/plain": [
       "'i have 3 apples'"
      ]
     },
     "execution_count": 22,
     "metadata": {},
     "output_type": "execute_result"
    }
   ],
   "source": [
    "\"i have %s apples\" %3"
   ]
  },
  {
   "cell_type": "code",
   "execution_count": 23,
   "id": "da48ca80-886c-47b1-9ebd-1c7e9b8454c0",
   "metadata": {},
   "outputs": [
    {
     "data": {
      "text/plain": [
       "'error is 98%.'"
      ]
     },
     "execution_count": 23,
     "metadata": {},
     "output_type": "execute_result"
    }
   ],
   "source": [
    "\"error is %d%%.\"% 98 "
   ]
  },
  {
   "cell_type": "code",
   "execution_count": 25,
   "id": "38aa6e28-243e-4dfe-b807-7f4b481a7073",
   "metadata": {},
   "outputs": [
    {
     "ename": "ValueError",
     "evalue": "incomplete format",
     "output_type": "error",
     "traceback": [
      "\u001b[1;31m---------------------------------------------------------------------------\u001b[0m",
      "\u001b[1;31mValueError\u001b[0m                                Traceback (most recent call last)",
      "Cell \u001b[1;32mIn[25], line 2\u001b[0m\n\u001b[0;32m      1\u001b[0m \u001b[38;5;66;03m# 포맷코드와 문자%를 같이사용\u001b[39;00m\n\u001b[1;32m----> 2\u001b[0m \u001b[38;5;124m\"\u001b[39m\u001b[38;5;124merror is \u001b[39m\u001b[38;5;132;01m%d\u001b[39;00m\u001b[38;5;124m%\u001b[39m\u001b[38;5;124m.\u001b[39m\u001b[38;5;124m\"\u001b[39m\u001b[38;5;241m%\u001b[39m\u001b[38;5;241m98\u001b[39m\n",
      "\u001b[1;31mValueError\u001b[0m: incomplete format"
     ]
    }
   ],
   "source": [
    "# 포맷코드와 문자%를 같이사용\n",
    "\"error is %d%.\"%98"
   ]
  },
  {
   "cell_type": "code",
   "execution_count": 26,
   "id": "d5179584-94e1-4f57-b8e0-d0496adec732",
   "metadata": {},
   "outputs": [
    {
     "data": {
      "text/plain": [
       "'error is 98%.'"
      ]
     },
     "execution_count": 26,
     "metadata": {},
     "output_type": "execute_result"
    }
   ],
   "source": [
    "\"error is %d%%.\"%98"
   ]
  },
  {
   "cell_type": "code",
   "execution_count": 27,
   "id": "aacb9528-4f32-420d-b83d-ebbf37afa14d",
   "metadata": {},
   "outputs": [
    {
     "data": {
      "text/plain": [
       "'        hi'"
      ]
     },
     "execution_count": 27,
     "metadata": {},
     "output_type": "execute_result"
    }
   ],
   "source": [
    "\"%10s\" %\"hi\""
   ]
  },
  {
   "cell_type": "code",
   "execution_count": 30,
   "id": "2962ec69-4168-420c-9883-c8f0d05bd490",
   "metadata": {},
   "outputs": [
    {
     "data": {
      "text/plain": [
       "'hi                                                                                                  ijane.'"
      ]
     },
     "execution_count": 30,
     "metadata": {},
     "output_type": "execute_result"
    }
   ],
   "source": [
    "\"%-100sijane.\" %'hi'"
   ]
  },
  {
   "cell_type": "code",
   "execution_count": 31,
   "id": "44dd6445-c50b-4ff9-b63f-315c006ed954",
   "metadata": {},
   "outputs": [
    {
     "data": {
      "text/plain": [
       "'3.4213'"
      ]
     },
     "execution_count": 31,
     "metadata": {},
     "output_type": "execute_result"
    }
   ],
   "source": [
    "\"%0.4f\"%3.42134234"
   ]
  },
  {
   "cell_type": "code",
   "execution_count": 32,
   "id": "648df25d-e473-4b7e-b144-4ff1b3415d4d",
   "metadata": {},
   "outputs": [
    {
     "data": {
      "text/plain": [
       "'3.4213423400'"
      ]
     },
     "execution_count": 32,
     "metadata": {},
     "output_type": "execute_result"
    }
   ],
   "source": [
    "\"%0.10f\"%3.42134234"
   ]
  },
  {
   "cell_type": "code",
   "execution_count": 33,
   "id": "2b4783af-e05b-4e02-b069-0f4a0e1e8e55",
   "metadata": {},
   "outputs": [
    {
     "data": {
      "text/plain": [
       "'    3.4213'"
      ]
     },
     "execution_count": 33,
     "metadata": {},
     "output_type": "execute_result"
    }
   ],
   "source": [
    "\"%10.4f\"%3.42134234"
   ]
  },
  {
   "cell_type": "code",
   "execution_count": 34,
   "id": "fdcf9969-1317-47ee-8943-230658ef79d9",
   "metadata": {},
   "outputs": [
    {
     "data": {
      "text/plain": [
       "'    3.4213'"
      ]
     },
     "execution_count": 34,
     "metadata": {},
     "output_type": "execute_result"
    }
   ],
   "source": [
    "f = \"%10.4f\"%3.42134234\n",
    "f"
   ]
  },
  {
   "cell_type": "code",
   "execution_count": 35,
   "id": "4111f159-2614-4e19-9adb-ffe3bc83b87c",
   "metadata": {},
   "outputs": [
    {
     "data": {
      "text/plain": [
       "10"
      ]
     },
     "execution_count": 35,
     "metadata": {},
     "output_type": "execute_result"
    }
   ],
   "source": [
    "len(f)"
   ]
  },
  {
   "cell_type": "code",
   "execution_count": 36,
   "id": "76e456b9-01e7-4be7-afc7-b48a7c935b65",
   "metadata": {},
   "outputs": [
    {
     "data": {
      "text/plain": [
       "'i eat3 apples'"
      ]
     },
     "execution_count": 36,
     "metadata": {},
     "output_type": "execute_result"
    }
   ],
   "source": [
    "\"i eat{} apples\".format(3)"
   ]
  },
  {
   "cell_type": "code",
   "execution_count": 40,
   "id": "5279626f-09e2-44a6-8f3b-80357d1f67e6",
   "metadata": {},
   "outputs": [
    {
     "data": {
      "text/plain": [
       "'i eatfive apples'"
      ]
     },
     "execution_count": 40,
     "metadata": {},
     "output_type": "execute_result"
    }
   ],
   "source": [
    "\"i eat{} apples\". format(\"five\")"
   ]
  },
  {
   "cell_type": "code",
   "execution_count": 41,
   "id": "0e5232df-12ee-47ae-8f9c-aaa88f6b234a",
   "metadata": {},
   "outputs": [
    {
     "data": {
      "text/plain": [
       "'i eat3 apples'"
      ]
     },
     "execution_count": 41,
     "metadata": {},
     "output_type": "execute_result"
    }
   ],
   "source": [
    "number =3\n",
    "\"i eat{} apples\". format(number)"
   ]
  },
  {
   "cell_type": "code",
   "execution_count": 43,
   "id": "f4195e20-a26a-4b03-9bb1-0e8c41165de4",
   "metadata": {},
   "outputs": [
    {
     "data": {
      "text/plain": [
       "'I ate 10 apples. so I was sick for three days.'"
      ]
     },
     "execution_count": 43,
     "metadata": {},
     "output_type": "execute_result"
    }
   ],
   "source": [
    "number = 10\n",
    "day = \"three\"\n",
    "\"I ate {0} apples. so I was sick for {1} days.\".format(number, day)"
   ]
  },
  {
   "cell_type": "code",
   "execution_count": 47,
   "id": "a68cb953-0015-4b44-937c-55f713b9c4f7",
   "metadata": {},
   "outputs": [
    {
     "data": {
      "text/plain": [
       "'I ate 10 apples. so I was sick for 3 days.'"
      ]
     },
     "execution_count": 47,
     "metadata": {},
     "output_type": "execute_result"
    }
   ],
   "source": [
    "number = 10\n",
    "day = 3\n",
    "\"I ate {number} apples. so I was sick for {day} days.\".format(number=number, day=day)"
   ]
  },
  {
   "cell_type": "code",
   "execution_count": 48,
   "id": "cd54eaff-e4cf-4a76-976c-8f0d06d9fe8b",
   "metadata": {},
   "outputs": [
    {
     "data": {
      "text/plain": [
       "'I ate 10 apples. so I was sick for 3 days.'"
      ]
     },
     "execution_count": 48,
     "metadata": {},
     "output_type": "execute_result"
    }
   ],
   "source": [
    "\"I ate {number} apples. so I was sick for {day} days.\".format(number=10, day=3)"
   ]
  },
  {
   "cell_type": "code",
   "execution_count": 52,
   "id": "ad038356-3fc4-4d2f-bd45-3a52b078496c",
   "metadata": {},
   "outputs": [
    {
     "data": {
      "text/plain": [
       "'hi        '"
      ]
     },
     "execution_count": 52,
     "metadata": {},
     "output_type": "execute_result"
    }
   ],
   "source": [
    "\"{:<10}\".format(\"hi\")"
   ]
  },
  {
   "cell_type": "code",
   "execution_count": 53,
   "id": "a4ef84e1-c87a-4c35-9a6b-d42093a696de",
   "metadata": {},
   "outputs": [
    {
     "data": {
      "text/plain": [
       "'        hi'"
      ]
     },
     "execution_count": 53,
     "metadata": {},
     "output_type": "execute_result"
    }
   ],
   "source": [
    "\"{:>10}\".format(\"hi\")"
   ]
  },
  {
   "cell_type": "code",
   "execution_count": 54,
   "id": "4419dd36-fc39-4eb6-862a-03001b5a5c3e",
   "metadata": {},
   "outputs": [
    {
     "data": {
      "text/plain": [
       "'    hi    '"
      ]
     },
     "execution_count": 54,
     "metadata": {},
     "output_type": "execute_result"
    }
   ],
   "source": [
    "\"{:^10}\".format(\"hi\")"
   ]
  },
  {
   "cell_type": "code",
   "execution_count": 55,
   "id": "61068cfe-2184-4ad7-8267-4a34599738e7",
   "metadata": {},
   "outputs": [
    {
     "data": {
      "text/plain": [
       "'hi        '"
      ]
     },
     "execution_count": 55,
     "metadata": {},
     "output_type": "execute_result"
    }
   ],
   "source": [
    "\"{:10}\".format(\"hi\")"
   ]
  },
  {
   "cell_type": "code",
   "execution_count": 56,
   "id": "9a1638f2-bd86-479e-b164-e3f2bd086925",
   "metadata": {},
   "outputs": [
    {
     "data": {
      "text/plain": [
       "'====hi===='"
      ]
     },
     "execution_count": 56,
     "metadata": {},
     "output_type": "execute_result"
    }
   ],
   "source": [
    "\"{:=^10}\".format(\"hi\")"
   ]
  },
  {
   "cell_type": "code",
   "execution_count": 58,
   "id": "b0ea1360-1969-476f-9fb0-d0bbf51573e5",
   "metadata": {},
   "outputs": [
    {
     "data": {
      "text/plain": [
       "'hi!!!!!!!!'"
      ]
     },
     "execution_count": 58,
     "metadata": {},
     "output_type": "execute_result"
    }
   ],
   "source": [
    "\"{:!<10}\".format(\"hi\")"
   ]
  },
  {
   "cell_type": "code",
   "execution_count": 59,
   "id": "40507631-7f33-4ac7-8986-28227c0ed4e2",
   "metadata": {},
   "outputs": [
    {
     "data": {
      "text/plain": [
       "'hi77777777'"
      ]
     },
     "execution_count": 59,
     "metadata": {},
     "output_type": "execute_result"
    }
   ],
   "source": [
    "\"{:7<10}\".format(\"hi\")"
   ]
  },
  {
   "cell_type": "code",
   "execution_count": 60,
   "id": "304430a6-8ddb-472c-bf18-980992acfa53",
   "metadata": {},
   "outputs": [
    {
     "data": {
      "text/plain": [
       "'3.4213'"
      ]
     },
     "execution_count": 60,
     "metadata": {},
     "output_type": "execute_result"
    }
   ],
   "source": [
    "\"{:0.4f}\".format(3.42134234)"
   ]
  },
  {
   "cell_type": "code",
   "execution_count": 61,
   "id": "2db849b5-35a7-4d97-bb70-59f74d1358a8",
   "metadata": {},
   "outputs": [
    {
     "data": {
      "text/plain": [
       "'    3.4213'"
      ]
     },
     "execution_count": 61,
     "metadata": {},
     "output_type": "execute_result"
    }
   ],
   "source": [
    "\"{:10.4f}\".format(3.42134234)"
   ]
  },
  {
   "cell_type": "code",
   "execution_count": 62,
   "id": "93c80627-81fd-40e6-8f33-fc259f56e662",
   "metadata": {},
   "outputs": [
    {
     "data": {
      "text/plain": [
       "'{and}'"
      ]
     },
     "execution_count": 62,
     "metadata": {},
     "output_type": "execute_result"
    }
   ],
   "source": [
    "\"{{and}}\".format()"
   ]
  },
  {
   "cell_type": "code",
   "execution_count": 64,
   "id": "d099eaa3-d47f-4298-b699-77398c20405f",
   "metadata": {},
   "outputs": [
    {
     "data": {
      "text/plain": [
       "'{and}'"
      ]
     },
     "execution_count": 64,
     "metadata": {},
     "output_type": "execute_result"
    }
   ],
   "source": [
    "\"{}\".format('{and}')"
   ]
  },
  {
   "cell_type": "code",
   "execution_count": 66,
   "id": "5e2bda95-b3c8-457c-953e-9cd099892e90",
   "metadata": {},
   "outputs": [
    {
     "data": {
      "text/plain": [
       "'나의 이름은정두균입니다. 나이는 30입니다'"
      ]
     },
     "execution_count": 66,
     "metadata": {},
     "output_type": "execute_result"
    }
   ],
   "source": [
    "name='정두균'\n",
    "age =30\n",
    "f'나의 이름은{name}입니다. 나이는 {age}입니다'"
   ]
  },
  {
   "cell_type": "code",
   "execution_count": 68,
   "id": "3a38b064-15b9-4331-a94c-a0405eda629c",
   "metadata": {},
   "outputs": [
    {
     "data": {
      "text/plain": [
       "'나는 내년이면 31살이 된다.'"
      ]
     },
     "execution_count": 68,
     "metadata": {},
     "output_type": "execute_result"
    }
   ],
   "source": [
    "age= 30\n",
    "f'나는 내년이면 {age+1}살이 된다.'"
   ]
  },
  {
   "cell_type": "code",
   "execution_count": 71,
   "id": "84de1dab-c98a-4cf9-83d2-21ac5d005df5",
   "metadata": {},
   "outputs": [
    {
     "data": {
      "text/plain": [
       "'나의 이름은 정두균 입니다. 나이는 30입니다'"
      ]
     },
     "execution_count": 71,
     "metadata": {},
     "output_type": "execute_result"
    }
   ],
   "source": [
    "'나의 이름은 정두균 입니다. 나이는 30입니다'"
   ]
  },
  {
   "cell_type": "code",
   "execution_count": 73,
   "id": "2235ebf1-fe55-4058-96e1-893bacd1ce20",
   "metadata": {},
   "outputs": [
    {
     "data": {
      "text/plain": [
       "'나의 이름은 정두균입니다. 나이는 30입니다'"
      ]
     },
     "execution_count": 73,
     "metadata": {},
     "output_type": "execute_result"
    }
   ],
   "source": [
    "d = {'name': '정두균', 'age' : 30}\n",
    "f'나의 이름은 {d['name']}입니다. 나이는 {d['age']}입니다'"
   ]
  },
  {
   "cell_type": "markdown",
   "id": "dafe98f4-44a2-409f-8858-1dbcb6495edb",
   "metadata": {},
   "source": [
    "### 문자열 관련 함수들"
   ]
  },
  {
   "cell_type": "code",
   "execution_count": 74,
   "id": "b1ed273f-688d-4e32-9e72-e1e775e70f5e",
   "metadata": {},
   "outputs": [
    {
     "data": {
      "text/plain": [
       "2"
      ]
     },
     "execution_count": 74,
     "metadata": {},
     "output_type": "execute_result"
    }
   ],
   "source": [
    "# count() : 문자 개수 세기\n",
    "\"hobby\". count('b')"
   ]
  },
  {
   "cell_type": "code",
   "execution_count": 76,
   "id": "5f1c0ba9-b6d6-4582-a9a0-f30e2f36aee5",
   "metadata": {},
   "outputs": [
    {
     "data": {
      "text/plain": [
       "32"
      ]
     },
     "execution_count": 76,
     "metadata": {},
     "output_type": "execute_result"
    }
   ],
   "source": [
    "\"adasdwkadaxczdsqwedasderffsdfaf\". count('')"
   ]
  },
  {
   "cell_type": "code",
   "execution_count": 79,
   "id": "1f0f46ec-271c-4d86-a5de-774f45cce18d",
   "metadata": {},
   "outputs": [
    {
     "data": {
      "text/plain": [
       "14"
      ]
     },
     "execution_count": 79,
     "metadata": {},
     "output_type": "execute_result"
    }
   ],
   "source": [
    "# find() 위치 찾기\n",
    "\"python is the best choice\". find('b')"
   ]
  },
  {
   "cell_type": "code",
   "execution_count": 81,
   "id": "cd7e1e4b-3e5c-4f41-b21a-ae2573c41577",
   "metadata": {},
   "outputs": [
    {
     "data": {
      "text/plain": [
       "-1"
      ]
     },
     "execution_count": 81,
     "metadata": {},
     "output_type": "execute_result"
    }
   ],
   "source": [
    "\"python is the best choice\". find('k') # 찾는 문자가 없으면 -1을 반환"
   ]
  },
  {
   "cell_type": "code",
   "execution_count": 82,
   "id": "71fa42bd-4f46-4a77-bf08-724ea6f1f541",
   "metadata": {},
   "outputs": [
    {
     "data": {
      "text/plain": [
       "8"
      ]
     },
     "execution_count": 82,
     "metadata": {},
     "output_type": "execute_result"
    }
   ],
   "source": [
    "# index() : 위치 찾기\n",
    "a = \"life is too short\"\n",
    "a.index('t')"
   ]
  },
  {
   "cell_type": "code",
   "execution_count": 85,
   "id": "23afbd52-2de1-4ede-87d9-27d462bbec46",
   "metadata": {},
   "outputs": [
    {
     "data": {
      "text/plain": [
       "6"
      ]
     },
     "execution_count": 85,
     "metadata": {},
     "output_type": "execute_result"
    }
   ],
   "source": [
    "a.index('s')"
   ]
  },
  {
   "cell_type": "code",
   "execution_count": 86,
   "id": "95513a5b-b4eb-4676-9933-e5826bb0279d",
   "metadata": {},
   "outputs": [
    {
     "data": {
      "text/plain": [
       "'a,b,c,d'"
      ]
     },
     "execution_count": 86,
     "metadata": {},
     "output_type": "execute_result"
    }
   ],
   "source": [
    "\",\".join('abcd')"
   ]
  },
  {
   "cell_type": "code",
   "execution_count": 88,
   "id": "faffd662-2c89-4b06-b01a-830ccaf43c39",
   "metadata": {},
   "outputs": [],
   "source": [
    "list = ['a', 'b' , 'c', 'd']"
   ]
  },
  {
   "cell_type": "code",
   "execution_count": 92,
   "id": "e81de949-8ad8-4133-abdd-9d4d5a9ac792",
   "metadata": {},
   "outputs": [
    {
     "data": {
      "text/plain": [
       "'hi  '"
      ]
     },
     "execution_count": 92,
     "metadata": {},
     "output_type": "execute_result"
    }
   ],
   "source": [
    "# lstrip(): 왼쪽 공백 제거\n",
    "\"  hi  \". lstrip()"
   ]
  },
  {
   "cell_type": "code",
   "execution_count": 96,
   "id": "5814bed2-da4d-4cb5-a2c1-e22852a7189b",
   "metadata": {},
   "outputs": [
    {
     "data": {
      "text/plain": [
       "'  hi'"
      ]
     },
     "execution_count": 96,
     "metadata": {},
     "output_type": "execute_result"
    }
   ],
   "source": [
    "# rstrip(): 오른쪽 공백 제거\n",
    "\"  hi  \". rstrip()"
   ]
  },
  {
   "cell_type": "code",
   "execution_count": 99,
   "id": "5cdac952-2eca-407f-8e1c-3c1f534d56ea",
   "metadata": {},
   "outputs": [
    {
     "data": {
      "text/plain": [
       "'hi'"
      ]
     },
     "execution_count": 99,
     "metadata": {},
     "output_type": "execute_result"
    }
   ],
   "source": [
    "# strip(): 양쪽 공백 제거\n",
    "\"  hi  \". strip()"
   ]
  },
  {
   "cell_type": "code",
   "execution_count": 101,
   "id": "78e7f916-d7e4-4e8b-83e9-1ac2e8c69dd0",
   "metadata": {},
   "outputs": [
    {
     "data": {
      "text/plain": [
       "'yoer leg is too short'"
      ]
     },
     "execution_count": 101,
     "metadata": {},
     "output_type": "execute_result"
    }
   ],
   "source": [
    "# relace() : 문자열 바꾸기\n",
    "\"life is too short\". replace(\"life\", \"yoer leg\")"
   ]
  },
  {
   "cell_type": "code",
   "execution_count": 104,
   "id": "270fba68-8fbd-4565-9fb9-1fe956fd9d1c",
   "metadata": {},
   "outputs": [
    {
     "name": "stdout",
     "output_type": "stream",
     "text": [
      "['life', 'is', 'too', 'short']\n",
      "<class 'list'>\n"
     ]
    }
   ],
   "source": [
    "# split() : 문자열 나누기\n",
    "a = \"life is too short\"\n",
    "b = a. split()\n",
    "\n",
    "print(b)\n",
    "print(type(b))"
   ]
  },
  {
   "cell_type": "code",
   "execution_count": 105,
   "id": "98b7ecd6-c70b-4ae0-94c9-c67279f29d55",
   "metadata": {},
   "outputs": [
    {
     "data": {
      "text/plain": [
       "['a', 'b', 'c', 'd']"
      ]
     },
     "execution_count": 105,
     "metadata": {},
     "output_type": "execute_result"
    }
   ],
   "source": [
    "c = \"a,b,c,d\"\n",
    "c.split(',')"
   ]
  },
  {
   "cell_type": "code",
   "execution_count": 106,
   "id": "e9862665-2548-4faa-8a36-ac55c1c08c46",
   "metadata": {},
   "outputs": [
    {
     "data": {
      "text/plain": [
       "'HI'"
      ]
     },
     "execution_count": 106,
     "metadata": {},
     "output_type": "execute_result"
    }
   ],
   "source": [
    "a= \"hi\"\n",
    "a.upper()"
   ]
  },
  {
   "cell_type": "code",
   "execution_count": 107,
   "id": "4421b049-b641-4a6c-aaa3-6519531a6664",
   "metadata": {},
   "outputs": [
    {
     "data": {
      "text/plain": [
       "'hi'"
      ]
     },
     "execution_count": 107,
     "metadata": {},
     "output_type": "execute_result"
    }
   ],
   "source": [
    "a"
   ]
  },
  {
   "cell_type": "code",
   "execution_count": 108,
   "id": "81c9268e-2f8e-4126-8d1b-436d2857a143",
   "metadata": {},
   "outputs": [
    {
     "data": {
      "text/plain": [
       "'HI'"
      ]
     },
     "execution_count": 108,
     "metadata": {},
     "output_type": "execute_result"
    }
   ],
   "source": [
    "a = a. upper()\n",
    "a"
   ]
  },
  {
   "cell_type": "code",
   "execution_count": 109,
   "id": "142e4f08-2fae-4ba3-b70f-2082af816dce",
   "metadata": {},
   "outputs": [
    {
     "data": {
      "text/plain": [
       "'HI'"
      ]
     },
     "execution_count": 109,
     "metadata": {},
     "output_type": "execute_result"
    }
   ],
   "source": [
    "a"
   ]
  },
  {
   "cell_type": "markdown",
   "id": "65f6054b-4b0a-4f29-8669-21186c321b02",
   "metadata": {},
   "source": [
    "### 문자로 포함"
   ]
  },
  {
   "cell_type": "code",
   "execution_count": 110,
   "id": "377e9cf3-9459-476b-bdcc-4b2efc42dde8",
   "metadata": {},
   "outputs": [
    {
     "data": {
      "text/plain": [
       "\"Python's favorite food is perl\""
      ]
     },
     "execution_count": 110,
     "metadata": {},
     "output_type": "execute_result"
    }
   ],
   "source": [
    "food = \"Python's favorite food is perl\"\n",
    "food"
   ]
  },
  {
   "cell_type": "code",
   "execution_count": 112,
   "id": "b0354815-b9bd-49c8-9bd1-fed9ceed1262",
   "metadata": {},
   "outputs": [
    {
     "ename": "SyntaxError",
     "evalue": "unterminated string literal (detected at line 1) (3264339671.py, line 1)",
     "output_type": "error",
     "traceback": [
      "\u001b[1;36m  Cell \u001b[1;32mIn[112], line 1\u001b[1;36m\u001b[0m\n\u001b[1;33m    food = 'Python's favorite food is perl'\u001b[0m\n\u001b[1;37m                                          ^\u001b[0m\n\u001b[1;31mSyntaxError\u001b[0m\u001b[1;31m:\u001b[0m unterminated string literal (detected at line 1)\n"
     ]
    }
   ],
   "source": [
    "food = 'Python's favorite food is perl'"
   ]
  },
  {
   "cell_type": "code",
   "execution_count": 113,
   "id": "2c16afb8-4f5b-4548-bc00-692f5cf2a4bd",
   "metadata": {},
   "outputs": [],
   "source": [
    "say= '\"python is very easy\" he says'"
   ]
  },
  {
   "cell_type": "code",
   "execution_count": 117,
   "id": "fe5397bd-b8b9-4448-b791-909ac0e6947d",
   "metadata": {},
   "outputs": [],
   "source": [
    "# 역슬래시\n",
    "say = \"\\\"python is very easy \\\" he say\""
   ]
  },
  {
   "cell_type": "markdown",
   "id": "725de654-5fbb-4d32-a027-af89957b5dec",
   "metadata": {},
   "source": [
    "### 여러 줄의 문자열"
   ]
  },
  {
   "cell_type": "code",
   "execution_count": 118,
   "id": "4321ede8-d2bf-4a6b-95a6-801d8a4e8557",
   "metadata": {},
   "outputs": [
    {
     "name": "stdout",
     "output_type": "stream",
     "text": [
      "Life is too short\n",
      "You need python\n"
     ]
    }
   ],
   "source": [
    "multiline = \"Life is too short\\nYou need python\"\n",
    "print(multiline)"
   ]
  },
  {
   "cell_type": "code",
   "execution_count": null,
   "id": "9365d29c-995e-44f9-bc62-c604dec0d76a",
   "metadata": {},
   "outputs": [],
   "source": []
  }
 ],
 "metadata": {
  "kernelspec": {
   "display_name": "Python 3 (ipykernel)",
   "language": "python",
   "name": "python3"
  },
  "language_info": {
   "codemirror_mode": {
    "name": "ipython",
    "version": 3
   },
   "file_extension": ".py",
   "mimetype": "text/x-python",
   "name": "python",
   "nbconvert_exporter": "python",
   "pygments_lexer": "ipython3",
   "version": "3.13.5"
  }
 },
 "nbformat": 4,
 "nbformat_minor": 5
}
